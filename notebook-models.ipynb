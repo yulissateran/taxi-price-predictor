{
 "cells": [
  {
   "attachments": {},
   "cell_type": "markdown",
   "metadata": {},
   "source": [
    "# Benchmark model"
   ]
  },
  {
   "cell_type": "code",
   "execution_count": null,
   "metadata": {},
   "outputs": [],
   "source": [
    "from sklearn.tree import DecisionTreeRegressor\n",
    "from sklearn.ensemble import RandomForestRegressor, GradientBoostingRegressor\n",
    "import tensorflow as tf"
   ]
  },
  {
   "cell_type": "code",
   "execution_count": 4,
   "metadata": {},
   "outputs": [],
   "source": [
    "import pandas as pd\n",
    "train_data = pd.read_csv('dataset/train_data.csv')\n",
    "test_data = pd.read_csv('dataset/test_data.csv')\n",
    "val_data = pd.read_csv('dataset/val_data.csv')"
   ]
  },
  {
   "cell_type": "code",
   "execution_count": 5,
   "metadata": {},
   "outputs": [
    {
     "data": {
      "text/html": [
       "<div>\n",
       "<style scoped>\n",
       "    .dataframe tbody tr th:only-of-type {\n",
       "        vertical-align: middle;\n",
       "    }\n",
       "\n",
       "    .dataframe tbody tr th {\n",
       "        vertical-align: top;\n",
       "    }\n",
       "\n",
       "    .dataframe thead th {\n",
       "        text-align: right;\n",
       "    }\n",
       "</style>\n",
       "<table border=\"1\" class=\"dataframe\">\n",
       "  <thead>\n",
       "    <tr style=\"text-align: right;\">\n",
       "      <th></th>\n",
       "      <th>0</th>\n",
       "      <th>1</th>\n",
       "      <th>2</th>\n",
       "      <th>3</th>\n",
       "      <th>4</th>\n",
       "      <th>5</th>\n",
       "      <th>6</th>\n",
       "      <th>7</th>\n",
       "      <th>8</th>\n",
       "      <th>9</th>\n",
       "      <th>...</th>\n",
       "      <th>12</th>\n",
       "      <th>13</th>\n",
       "      <th>14</th>\n",
       "      <th>15</th>\n",
       "      <th>16</th>\n",
       "      <th>17</th>\n",
       "      <th>18</th>\n",
       "      <th>19</th>\n",
       "      <th>20</th>\n",
       "      <th>21</th>\n",
       "    </tr>\n",
       "  </thead>\n",
       "  <tbody>\n",
       "    <tr>\n",
       "      <th>0</th>\n",
       "      <td>0.0</td>\n",
       "      <td>1.0</td>\n",
       "      <td>0.666667</td>\n",
       "      <td>0.024850</td>\n",
       "      <td>0.0</td>\n",
       "      <td>0.526515</td>\n",
       "      <td>0.992424</td>\n",
       "      <td>0.000000</td>\n",
       "      <td>0.115426</td>\n",
       "      <td>0.413534</td>\n",
       "      <td>...</td>\n",
       "      <td>0.045231</td>\n",
       "      <td>1.0</td>\n",
       "      <td>0.952381</td>\n",
       "      <td>0.5</td>\n",
       "      <td>0.566667</td>\n",
       "      <td>0.695652</td>\n",
       "      <td>0.237288</td>\n",
       "      <td>0.566667</td>\n",
       "      <td>0.695652</td>\n",
       "      <td>0.406780</td>\n",
       "    </tr>\n",
       "    <tr>\n",
       "      <th>1</th>\n",
       "      <td>0.0</td>\n",
       "      <td>1.0</td>\n",
       "      <td>0.111111</td>\n",
       "      <td>0.081964</td>\n",
       "      <td>0.0</td>\n",
       "      <td>0.893939</td>\n",
       "      <td>0.155303</td>\n",
       "      <td>0.333333</td>\n",
       "      <td>0.116380</td>\n",
       "      <td>0.375940</td>\n",
       "      <td>...</td>\n",
       "      <td>0.045231</td>\n",
       "      <td>1.0</td>\n",
       "      <td>0.952381</td>\n",
       "      <td>0.5</td>\n",
       "      <td>0.500000</td>\n",
       "      <td>0.869565</td>\n",
       "      <td>0.542373</td>\n",
       "      <td>0.500000</td>\n",
       "      <td>0.869565</td>\n",
       "      <td>0.847458</td>\n",
       "    </tr>\n",
       "    <tr>\n",
       "      <th>2</th>\n",
       "      <td>0.0</td>\n",
       "      <td>1.0</td>\n",
       "      <td>0.111111</td>\n",
       "      <td>0.020441</td>\n",
       "      <td>0.0</td>\n",
       "      <td>0.867424</td>\n",
       "      <td>0.700758</td>\n",
       "      <td>0.333333</td>\n",
       "      <td>0.115108</td>\n",
       "      <td>0.413534</td>\n",
       "      <td>...</td>\n",
       "      <td>0.045231</td>\n",
       "      <td>1.0</td>\n",
       "      <td>0.952381</td>\n",
       "      <td>0.5</td>\n",
       "      <td>0.100000</td>\n",
       "      <td>0.695652</td>\n",
       "      <td>0.949153</td>\n",
       "      <td>0.100000</td>\n",
       "      <td>0.739130</td>\n",
       "      <td>0.016949</td>\n",
       "    </tr>\n",
       "    <tr>\n",
       "      <th>3</th>\n",
       "      <td>0.0</td>\n",
       "      <td>1.0</td>\n",
       "      <td>0.111111</td>\n",
       "      <td>0.102004</td>\n",
       "      <td>0.0</td>\n",
       "      <td>0.878788</td>\n",
       "      <td>0.329545</td>\n",
       "      <td>0.000000</td>\n",
       "      <td>0.116507</td>\n",
       "      <td>0.338346</td>\n",
       "      <td>...</td>\n",
       "      <td>0.045231</td>\n",
       "      <td>1.0</td>\n",
       "      <td>0.952381</td>\n",
       "      <td>0.5</td>\n",
       "      <td>0.366667</td>\n",
       "      <td>0.434783</td>\n",
       "      <td>0.491525</td>\n",
       "      <td>0.366667</td>\n",
       "      <td>0.434783</td>\n",
       "      <td>0.711864</td>\n",
       "    </tr>\n",
       "    <tr>\n",
       "      <th>4</th>\n",
       "      <td>0.0</td>\n",
       "      <td>1.0</td>\n",
       "      <td>0.555556</td>\n",
       "      <td>0.034669</td>\n",
       "      <td>0.0</td>\n",
       "      <td>0.893939</td>\n",
       "      <td>0.878788</td>\n",
       "      <td>0.000000</td>\n",
       "      <td>0.115808</td>\n",
       "      <td>0.413534</td>\n",
       "      <td>...</td>\n",
       "      <td>0.045231</td>\n",
       "      <td>1.0</td>\n",
       "      <td>0.952381</td>\n",
       "      <td>0.5</td>\n",
       "      <td>0.733333</td>\n",
       "      <td>0.739130</td>\n",
       "      <td>0.271186</td>\n",
       "      <td>0.733333</td>\n",
       "      <td>0.739130</td>\n",
       "      <td>0.525424</td>\n",
       "    </tr>\n",
       "  </tbody>\n",
       "</table>\n",
       "<p>5 rows × 22 columns</p>\n",
       "</div>"
      ],
      "text/plain": [
       "     0    1         2         3    4         5         6         7         8   \n",
       "0  0.0  1.0  0.666667  0.024850  0.0  0.526515  0.992424  0.000000  0.115426  \\\n",
       "1  0.0  1.0  0.111111  0.081964  0.0  0.893939  0.155303  0.333333  0.116380   \n",
       "2  0.0  1.0  0.111111  0.020441  0.0  0.867424  0.700758  0.333333  0.115108   \n",
       "3  0.0  1.0  0.111111  0.102004  0.0  0.878788  0.329545  0.000000  0.116507   \n",
       "4  0.0  1.0  0.555556  0.034669  0.0  0.893939  0.878788  0.000000  0.115808   \n",
       "\n",
       "          9  ...        12   13        14   15        16        17        18   \n",
       "0  0.413534  ...  0.045231  1.0  0.952381  0.5  0.566667  0.695652  0.237288  \\\n",
       "1  0.375940  ...  0.045231  1.0  0.952381  0.5  0.500000  0.869565  0.542373   \n",
       "2  0.413534  ...  0.045231  1.0  0.952381  0.5  0.100000  0.695652  0.949153   \n",
       "3  0.338346  ...  0.045231  1.0  0.952381  0.5  0.366667  0.434783  0.491525   \n",
       "4  0.413534  ...  0.045231  1.0  0.952381  0.5  0.733333  0.739130  0.271186   \n",
       "\n",
       "         19        20        21  \n",
       "0  0.566667  0.695652  0.406780  \n",
       "1  0.500000  0.869565  0.847458  \n",
       "2  0.100000  0.739130  0.016949  \n",
       "3  0.366667  0.434783  0.711864  \n",
       "4  0.733333  0.739130  0.525424  \n",
       "\n",
       "[5 rows x 22 columns]"
      ]
     },
     "execution_count": 5,
     "metadata": {},
     "output_type": "execute_result"
    }
   ],
   "source": [
    "train_data.head()"
   ]
  },
  {
   "cell_type": "code",
   "execution_count": null,
   "metadata": {},
   "outputs": [],
   "source": [
    "data_for_benchmark_model = data.copy()\n"
   ]
  },
  {
   "cell_type": "code",
   "execution_count": null,
   "metadata": {},
   "outputs": [],
   "source": [
    "X_bench = data_for_benchmark_model.drop([columns])\n",
    "y_bench = data_for_benchmark_model[column]\n",
    "\n",
    "# One-hot encoding\n",
    "X_bench = pd.get_dummies(X_bench)\n",
    "\n",
    "# Train-test-split\n",
    "X_train_b, X_test_b, y_train_b, y_test_b =train_test_split(X_bench, y_bench, test_size=0.2, random_state=0)\n",
    "\n",
    "# Create the benchmark model\n",
    "tree = DecisionTreeRegressor(max_depth=10)\n",
    "tree.fit(X_train_b, y_train_b)\n",
    "\n",
    "# Evaluate the model\n",
    "y_pred_b = tree.predict(X_test_b)\n",
    "\n",
    "print('MAE:' mean_absolute_error(y_test_b, y_pred_b))\n",
    "print('MSE:' mean_squared_error(y_test_b, y_pred_b))\n",
    "print('RMSE:' sqrt(mean_squared_error(y_test_b, y_pred_b)))\n",
    "print('R2:' r2_score(y_test_b, y_pred_b))"
   ]
  },
  {
   "attachments": {},
   "cell_type": "markdown",
   "metadata": {},
   "source": [
    "# Model training (After feature engineering)"
   ]
  },
  {
   "cell_type": "code",
   "execution_count": null,
   "metadata": {},
   "outputs": [],
   "source": [
    "X = data_for_benchmark_model.drop([columns])\n",
    "y = data_for_benchmark_model[column]\n",
    "\n",
    "# One-hot encoding\n",
    "X = pd.get_dummies(X_bench)\n",
    "\n",
    "# Train-test-split\n",
    "X_train, X_test, y_train, y_test =train_test_split(X, y, test_size=0.2, random_state=0)"
   ]
  },
  {
   "attachments": {},
   "cell_type": "markdown",
   "metadata": {},
   "source": [
    "## Decision tree"
   ]
  },
  {
   "cell_type": "code",
   "execution_count": null,
   "metadata": {},
   "outputs": [],
   "source": [
    "# Create the model\n",
    "tree = DecisionTreeRegressor(max_depth=10)\n",
    "tree.fit(X_train, y_train)\n",
    "\n",
    "# Evaluate the model\n",
    "y_pred = tree.predict(X_test)\n",
    "\n",
    "print('MAE:' mean_absolute_error(y_test, y_pred))\n",
    "print('MSE:' mean_squared_error(y_test, y_pred))\n",
    "print('RMSE:' sqrt(mean_squared_error(y_test, y_pred)))\n",
    "print('R2:' r2_score(y_test, y_pred))"
   ]
  },
  {
   "attachments": {},
   "cell_type": "markdown",
   "metadata": {},
   "source": [
    "## Random forest"
   ]
  },
  {
   "cell_type": "code",
   "execution_count": null,
   "metadata": {},
   "outputs": [],
   "source": [
    "# Create the model\n",
    "rf_reg = RandomForestRegressor()\n",
    "rf_reg.fit(X_train, y _train)\n",
    "\n",
    "# Evaluate the model\n",
    "y_pred = rf_reg.predict(X_test)\n",
    "\n",
    "print('MAE:' mean_absolute_error(y_test, y_pred))\n",
    "print('MSE:' mean_squared_error(y_test, y_pred))\n",
    "print('RMSE:' sqrt(mean_squared_error(y_test, y_pred)))\n",
    "print('R2:' r2_score(y_test, y_pred))"
   ]
  },
  {
   "attachments": {},
   "cell_type": "markdown",
   "metadata": {},
   "source": [
    "## Gradient boosting"
   ]
  },
  {
   "cell_type": "code",
   "execution_count": null,
   "metadata": {},
   "outputs": [],
   "source": [
    "# Create the model\n",
    "grad_booster = GradientBoostingRegressor()\n",
    "grad_booster.fit(X_train, y_train)\n",
    "\n",
    "# Evaluate the model\n",
    "y_pred = grad_booster.predict(X_test)\n",
    "\n",
    "print('MAE:' mean_absolute_error(y_test, y_pred))\n",
    "print('MSE:' mean_squared_error(y_test, y_pred))\n",
    "print('RMSE:' sqrt(mean_squared_error(y_test, y_pred)))\n",
    "print('R2:' r2_score(y_test, y_pred))"
   ]
  },
  {
   "attachments": {},
   "cell_type": "markdown",
   "metadata": {},
   "source": [
    "## Neural network"
   ]
  },
  {
   "cell_type": "code",
   "execution_count": null,
   "metadata": {},
   "outputs": [],
   "source": [
    "tf.random.set_seed(0)\n",
    "\n",
    "# Create the model\n",
    "nn = tf.keras.Sequential([\n",
    "    tf.keras.layers.Dense(10),\n",
    "    tf.keras.layers.Dense(1)\n",
    "])\n",
    "\n",
    "# Compile the model\n",
    "nn.compile(loss=tf.keras.losses.mae,\n",
    "           optimizer=tf.keras.optimizer.Ada(),\n",
    "           metrics=['mae'])\n",
    "\n",
    "# Fit the model\n",
    "nn.fit(X_train, y_train, epochs=100, verbose=0)\n",
    "\n",
    "# Evaluate the model\n",
    "nn.evaluate(X_test, y_test)"
   ]
  },
  {
   "attachments": {},
   "cell_type": "markdown",
   "metadata": {},
   "source": [
    "# Comparing model performances"
   ]
  },
  {
   "cell_type": "code",
   "execution_count": null,
   "metadata": {},
   "outputs": [],
   "source": [
    "data = {\n",
    "    'Model': ['Benchmark model', 'Decision tree', 'Random forest', 'Gradient boosting'],\n",
    "    'MAE': [],\n",
    "    'RMSE': [],\n",
    "    'R2': []\n",
    "}\n",
    "\n",
    "comparison = pd.DataFrame(data).set_index('Model')\n",
    "comparison"
   ]
  }
 ],
 "metadata": {
  "kernelspec": {
   "display_name": "finalprojectenv",
   "language": "python",
   "name": "python3"
  },
  "language_info": {
   "codemirror_mode": {
    "name": "ipython",
    "version": 3
   },
   "file_extension": ".py",
   "mimetype": "text/x-python",
   "name": "python",
   "nbconvert_exporter": "python",
   "pygments_lexer": "ipython3",
   "version": "3.11.7"
  },
  "orig_nbformat": 4,
  "vscode": {
   "interpreter": {
    "hash": "5efa683b5b1ae7e8e11b6b316072de2b1afb735b3660bedb7c7a61c7b9dc51db"
   }
  }
 },
 "nbformat": 4,
 "nbformat_minor": 2
}
