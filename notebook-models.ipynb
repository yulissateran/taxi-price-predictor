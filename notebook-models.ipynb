{
 "cells": [
  {
   "attachments": {},
   "cell_type": "markdown",
   "metadata": {},
   "source": [
    "# Benchmark model"
   ]
  },
  {
   "cell_type": "code",
   "execution_count": null,
   "metadata": {},
   "outputs": [],
   "source": [
    "data_for_benchmark_model = data.copy()\n"
   ]
  },
  {
   "cell_type": "code",
   "execution_count": null,
   "metadata": {},
   "outputs": [],
   "source": [
    "X_bench = data_for_benchmark_model.drop([columns])\n",
    "y_bench = data_for_benchmark_model[column]\n",
    "\n",
    "# One-hot encoding\n",
    "X_bench = pd.get_dummies(X_bench)\n",
    "\n",
    "# Train-test-split\n",
    "X_train_b, X_test_b, y_train_b, y_test_b =train_test_split(X_bench, y_bench, test_size=0.2, random_state=0)\n",
    "\n",
    "# Create the benchmark model\n",
    "tree = DecisionTreeRegressor(max_depth=10)\n",
    "tree.fit(X_train_b, y_train_b)\n",
    "\n",
    "# Evaluate the model\n",
    "y_pred_b = tree.predict(X_test_b)\n",
    "\n",
    "print('MAE:' mean_absolute_error(y_test_b, y_pred_b))\n",
    "print('MSE:' mean_squared_error(y_test_b, y_pred_b))\n",
    "print('RMSE:' sqrt(mean_squared_error(y_test_b, y_pred_b)))\n",
    "print('R2:' r2_score(y_test_b, y_pred_b))"
   ]
  },
  {
   "attachments": {},
   "cell_type": "markdown",
   "metadata": {},
   "source": [
    "# Model training (After feature engineering)"
   ]
  },
  {
   "cell_type": "code",
   "execution_count": null,
   "metadata": {},
   "outputs": [],
   "source": [
    "X = data_for_benchmark_model.drop([columns])\n",
    "y = data_for_benchmark_model[column]\n",
    "\n",
    "# One-hot encoding\n",
    "X = pd.get_dummies(X_bench)\n",
    "\n",
    "# Train-test-split\n",
    "X_train, X_test, y_train, y_test =train_test_split(X, y, test_size=0.2, random_state=0)"
   ]
  },
  {
   "attachments": {},
   "cell_type": "markdown",
   "metadata": {},
   "source": [
    "## Decision tree"
   ]
  },
  {
   "cell_type": "code",
   "execution_count": null,
   "metadata": {},
   "outputs": [],
   "source": [
    "# Create the model\n",
    "tree = DecisionTreeRegressor(max_depth=10)\n",
    "tree.fit(X_train, y_train)\n",
    "\n",
    "# Evaluate the model\n",
    "y_pred = tree.predict(X_test)\n",
    "\n",
    "print('MAE:' mean_absolute_error(y_test, y_pred))\n",
    "print('MSE:' mean_squared_error(y_test, y_pred))\n",
    "print('RMSE:' sqrt(mean_squared_error(y_test, y_pred)))\n",
    "print('R2:' r2_score(y_test, y_pred))"
   ]
  },
  {
   "attachments": {},
   "cell_type": "markdown",
   "metadata": {},
   "source": [
    "## Random forest"
   ]
  },
  {
   "cell_type": "code",
   "execution_count": null,
   "metadata": {},
   "outputs": [],
   "source": [
    "# Create the model\n",
    "rf_reg = RandomForestRegressor()\n",
    "rf_reg.fit(X_train, y _train)\n",
    "\n",
    "# Evaluate the model\n",
    "y_pred = rf_reg.predict(X_test)\n",
    "\n",
    "print('MAE:' mean_absolute_error(y_test, y_pred))\n",
    "print('MSE:' mean_squared_error(y_test, y_pred))\n",
    "print('RMSE:' sqrt(mean_squared_error(y_test, y_pred)))\n",
    "print('R2:' r2_score(y_test, y_pred))"
   ]
  },
  {
   "attachments": {},
   "cell_type": "markdown",
   "metadata": {},
   "source": [
    "## Gradient boosting"
   ]
  },
  {
   "cell_type": "code",
   "execution_count": null,
   "metadata": {},
   "outputs": [],
   "source": [
    "# Create the model\n",
    "grad_booster = GradientBoostingRegressor()\n",
    "grad_booster.fit(X_train, y_train)\n",
    "\n",
    "# Evaluate the model\n",
    "y_pred = grad_booster.predict(X_test)\n",
    "\n",
    "print('MAE:' mean_absolute_error(y_test, y_pred))\n",
    "print('MSE:' mean_squared_error(y_test, y_pred))\n",
    "print('RMSE:' sqrt(mean_squared_error(y_test, y_pred)))\n",
    "print('R2:' r2_score(y_test, y_pred))"
   ]
  },
  {
   "attachments": {},
   "cell_type": "markdown",
   "metadata": {},
   "source": [
    "## Neural network"
   ]
  },
  {
   "cell_type": "code",
   "execution_count": null,
   "metadata": {},
   "outputs": [],
   "source": [
    "tf.random.set_seed(0)\n",
    "\n",
    "# Create the model\n",
    "nn = tf.keras.Sequential([\n",
    "    tf.keras.layers.Dense(10),\n",
    "    tf.keras.layers.Dense(1)\n",
    "])\n",
    "\n",
    "# Compile the model\n",
    "nn.compile(loss=tf.keras.losses.mae,\n",
    "           optimizer=tf.keras.optimizer.Ada(),\n",
    "           metrics=['mae'])\n",
    "\n",
    "# Fit the model\n",
    "nn.fit(X_train, y_train, epochs=100, verbose=0)\n",
    "\n",
    "# Evaluate the model\n",
    "nn.evaluate(X_test, y_test)"
   ]
  },
  {
   "attachments": {},
   "cell_type": "markdown",
   "metadata": {},
   "source": [
    "# Comparing model performances"
   ]
  },
  {
   "cell_type": "code",
   "execution_count": null,
   "metadata": {},
   "outputs": [],
   "source": [
    "data = {\n",
    "    'Model': ['Benchmark model', 'Decision tree', 'Random forest', 'Gradient boosting'],\n",
    "    'MAE': [],\n",
    "    'RMSE': [],\n",
    "    'R2': []\n",
    "}\n",
    "\n",
    "comparison = pd.DataFrame(data).set_index('Model')\n",
    "comparison"
   ]
  }
 ],
 "metadata": {
  "kernelspec": {
   "display_name": "finalprojectenv",
   "language": "python",
   "name": "python3"
  },
  "language_info": {
   "codemirror_mode": {
    "name": "ipython",
    "version": 3
   },
   "file_extension": ".py",
   "mimetype": "text/x-python",
   "name": "python",
   "nbconvert_exporter": "python",
   "pygments_lexer": "ipython3",
   "version": "3.11.7"
  },
  "orig_nbformat": 4,
  "vscode": {
   "interpreter": {
    "hash": "5efa683b5b1ae7e8e11b6b316072de2b1afb735b3660bedb7c7a61c7b9dc51db"
   }
  }
 },
 "nbformat": 4,
 "nbformat_minor": 2
}
