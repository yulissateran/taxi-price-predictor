{
   "cells": [
      {
         "cell_type": "markdown",
         "metadata": {},
         "source": [
            "## 1. Preprocessing"
         ]
      },
      {
         "cell_type": "code",
         "execution_count": 1,
         "metadata": {},
         "outputs": [
            {
               "name": "stderr",
               "output_type": "stream",
               "text": [
                  "C:\\Users\\Cesar_Maydana\\AppData\\Local\\Temp\\ipykernel_4112\\3562251875.py:1: DeprecationWarning: the imp module is deprecated in favour of importlib and slated for removal in Python 3.12; see the module's documentation for alternative uses\n",
                  "  from imp import reload\n"
               ]
            }
         ],
         "source": [
            "from imp import reload\n",
            "from src import config, data_utilsf, preprocessing\n",
            "import pandas as pd"
         ]
      },
      {
         "cell_type": "markdown",
         "metadata": {},
         "source": [
            "### Getting the data"
         ]
      },
      {
         "cell_type": "code",
         "execution_count": 2,
         "metadata": {},
         "outputs": [
            {
               "name": "stdout",
               "output_type": "stream",
               "text": [
                  "columns Index(['passenger_count', 'PULocationID', 'DOLocationID', 'payment_type',\n",
                  "       'improvement_surcharge', 'total_amount', 'airport_fee',\n",
                  "       'duration_in_minutes', 'pickup_year', 'pickup_day',\n",
                  "       'pickup_day_of_week', 'pickup_hour', 'pickup_minute'],\n",
                  "      dtype='object')\n"
               ]
            },
            {
               "data": {
                  "text/plain": [
                     "Index(['passenger_count', 'PULocationID', 'DOLocationID', 'payment_type',\n",
                     "       'improvement_surcharge', 'total_amount', 'airport_fee',\n",
                     "       'duration_in_minutes', 'pickup_year', 'pickup_day',\n",
                     "       'pickup_day_of_week', 'pickup_hour', 'pickup_minute'],\n",
                     "      dtype='object')"
                  ]
               },
               "execution_count": 2,
               "metadata": {},
               "output_type": "execute_result"
            }
         ],
         "source": [
            "app_train, app_test = data_utilsf.get_datasets()\n",
            "app_train.columns"
         ]
      },
      {
         "cell_type": "markdown",
         "metadata": {},
         "source": [
            "## Agregating columns"
         ]
      },
      {
         "cell_type": "code",
         "execution_count": 3,
         "metadata": {},
         "outputs": [],
         "source": [
            "\n",
            "#reload(data_utils)\n",
            "#app_train =  data_utils.agregate_columns(app_train)\n",
            "#app_test =  data_utils.agregate_columns(app_test)"
         ]
      },
      {
         "cell_type": "markdown",
         "metadata": {},
         "source": [
            "## Split targets from dataset"
         ]
      },
      {
         "cell_type": "code",
         "execution_count": 3,
         "metadata": {},
         "outputs": [],
         "source": [
            "(\n",
            " X_train,\n",
            " y_train_total_amount,\n",
            " y_train_duration_in_minutes,\n",
            " X_test,\n",
            " y_test_total_amount,\n",
            " y_test_duration_in_minutes\n",
            ") = data_utilsf.get_feature_target(app_train, app_test)"
         ]
      },
      {
         "cell_type": "markdown",
         "metadata": {},
         "source": [
            "## Stract validation dataset"
         ]
      },
      {
         "cell_type": "code",
         "execution_count": 4,
         "metadata": {},
         "outputs": [],
         "source": [
            "(\n",
            "X_train,\n",
            "X_val,\n",
            "y_train_total_amount,\n",
            "y_val_total_amount,\n",
            "y_train_duration_in_minutes,\n",
            "y_val_duration_in_minutes\n",
            ") = data_utilsf.get_train_val_sets(X_train, y_train_total_amount, y_train_duration_in_minutes)"
         ]
      },
      {
         "cell_type": "code",
         "execution_count": 5,
         "metadata": {},
         "outputs": [
            {
               "name": "stdout",
               "output_type": "stream",
               "text": [
                  "(2819555, 11) (704889, 11) (3533786, 11)\n"
               ]
            }
         ],
         "source": [
            "print(X_train.shape, X_val.shape, X_test.shape)"
         ]
      },
      {
         "cell_type": "markdown",
         "metadata": {},
         "source": [
            "## Clear and encode datasets"
         ]
      },
      {
         "cell_type": "code",
         "execution_count": 6,
         "metadata": {},
         "outputs": [
            {
               "data": {
                  "text/plain": [
                     "<module 'src.preprocessing' from 'c:\\\\Anyone\\\\repos\\\\Finall_project\\\\assignment\\\\taxi-price-predictor\\\\src\\\\preprocessing.py'>"
                  ]
               },
               "execution_count": 6,
               "metadata": {},
               "output_type": "execute_result"
            }
         ],
         "source": [
            "reload(preprocessing)"
         ]
      },
      {
         "cell_type": "code",
         "execution_count": 7,
         "metadata": {},
         "outputs": [
            {
               "name": "stdout",
               "output_type": "stream",
               "text": [
                  "Input train data shape:  (2819555, 11)\n",
                  "Input val data shape:  (704889, 11)\n",
                  "Input test data shape:  (3533786, 11) \n",
                  "\n"
               ]
            }
         ],
         "source": [
            "X_train, X_val, X_test = preprocessing.preprocess_data(X_train, X_val, X_test)"
         ]
      },
      {
         "cell_type": "code",
         "execution_count": 9,
         "metadata": {},
         "outputs": [
            {
               "name": "stdout",
               "output_type": "stream",
               "text": [
                  "(2819555, 11)\n",
                  "(2819555,)\n"
               ]
            },
            {
               "ename": "AttributeError",
               "evalue": "'numpy.ndarray' object has no attribute 'columns'",
               "output_type": "error",
               "traceback": [
                  "\u001b[1;31m---------------------------------------------------------------------------\u001b[0m",
                  "\u001b[1;31mAttributeError\u001b[0m                            Traceback (most recent call last)",
                  "Cell \u001b[1;32mIn[9], line 4\u001b[0m\n\u001b[0;32m      1\u001b[0m \u001b[38;5;28mprint\u001b[39m(X_train\u001b[38;5;241m.\u001b[39mshape)\n\u001b[0;32m      2\u001b[0m \u001b[38;5;28mprint\u001b[39m(y_train_total_amount\u001b[38;5;241m.\u001b[39mshape)\n\u001b[1;32m----> 4\u001b[0m \u001b[43mX_train\u001b[49m\u001b[38;5;241;43m.\u001b[39;49m\u001b[43mcolumns\u001b[49m\n",
                  "\u001b[1;31mAttributeError\u001b[0m: 'numpy.ndarray' object has no attribute 'columns'"
               ]
            }
         ],
         "source": [
            "print(X_train.shape)\n",
            "print(y_train_total_amount.shape)\n",
            "\n",
            "X_train.columns"
         ]
      },
      {
         "cell_type": "markdown",
         "metadata": {},
         "source": [
            "## Models"
         ]
      },
      {
         "cell_type": "markdown",
         "metadata": {},
         "source": [
            "### Linear Regression"
         ]
      },
      {
         "cell_type": "markdown",
         "metadata": {},
         "source": [
            "#### Total amount prediction"
         ]
      },
      {
         "cell_type": "code",
         "execution_count": null,
         "metadata": {},
         "outputs": [],
         "source": [
            "import lightgbm as lgb\n",
            "from sklearn.model_selection import train_test_split\n",
            "from sklearn.metrics import mean_squared_error, r2_score\n",
            "import pickle\n",
            "\n",
            "\n",
            "\n",
            "# Prepare data for LightGBM\n",
            "train_data = lgb.Dataset(X_train, label=y_train_total_amount)\n",
            "val_data = lgb.Dataset(X_val, label=y_val_total_amount, reference=train_data)\n",
            "\n",
            "# Set parameters for LightGBM\n",
            "params = {\n",
            "    'objective': 'regression',\n",
            "    'metric': 'rmse',\n",
            "    'boosting_type': 'gbdt',\n",
            "    'num_leaves': 31,\n",
            "    'learning_rate': 0.05,\n",
            "    'feature_fraction': 0.9,\n",
            "}\n",
            "\n",
            "# Train the model with early stopping based on validation set\n",
            "early_stopping_rounds = 10\n",
            "eval_results = {}\n",
            "num_round = 100\n",
            "bst = lgb.train(\n",
            "    params,\n",
            "    train_data,\n",
            "    num_round,\n",
            "    valid_sets=[val_data],\n",
            "    valid_names=[\"val\"],\n",
            "    early_stopping_rounds=early_stopping_rounds,\n",
            "    evals_result=eval_results,\n",
            ")\n",
            "\n",
            "# Get the best iteration based on validation set performance\n",
            "best_iteration = bst.best_iteration\n",
            "\n",
            "# Save the model to a pickle file\n",
            "with open('Rate.pickle', 'wb') as model_file:\n",
            "    pickle.dump(bst, model_file)\n",
            "\n",
            "# Make predictions on the test set using the best iteration\n",
            "y_pred = bst.predict(X_test, num_iteration=best_iteration)\n",
            "\n",
            "# Evaluate the model on the test set\n",
            "mse = mean_squared_error(y_test_total_amount, y_pred)\n",
            "print(f'Mean Squared Error on test set: {mse}')\n",
            "r2 = r2_score(y_test_total_amount, y_pred)\n",
            "print(f\"R-squared on test set: {r2:.2f}\")\n"
         ]
      },
      {
         "cell_type": "markdown",
         "metadata": {},
         "source": [
            "Time"
         ]
      },
      {
         "cell_type": "code",
         "execution_count": null,
         "metadata": {},
         "outputs": [],
         "source": [
            "import pandas as pd\n",
            "import numpy as np\n",
            "from sklearn.model_selection import train_test_split, cross_val_score\n",
            "from sklearn.linear_model import LinearRegression\n",
            "from sklearn.tree import DecisionTreeRegressor\n",
            "import lightgbm as lgb\n",
            "import xgboost as xgb\n",
            "from sklearn.metrics import r2_score, mean_squared_error\n",
            "\n",
            "# Drop datetime columns from the feature set\n",
            "X = X_train.drop(columns=['trip_duration'])\n",
            "y = y_test_duration_in_minutes['trip_duration']\n",
            "\n",
            "\n",
            "# LightGBM Regressor\n",
            "lgbm = lgb.LGBMRegressor(random_state=42)\n",
            "lgbm.fit(X_train, y_train_duration_in_minutes, eval_set=[(X_val, y_val_duration_in_minutes)], eval_metric='rmse')\n",
            "y_pred_lgbm = lgbm.predict(X_test)\n",
            "r2_lgbm = r2_score(y_test_duration_in_minutes, y_pred_lgbm)\n",
            "mse_lgbm = mean_squared_error(y_test_duration_in_minutes, y_pred_lgbm)\n",
            "# Save the model\n",
            "with open('lightgbm_time.pkl', 'wb') as file:\n",
            "    pickle.dump(lgbm, file)\n",
            "\n",
            "# XGBoost Regressor\n",
            "xgbr = xgb.XGBRegressor(random_state=42)\n",
            "xgbr.fit(X_train, y_train_duration_in_minutes, eval_set=[(X_val,y_val_duration_in_minutes)], eval_metric='rmse')\n",
            "y_pred_xgbr = xgbr.predict(X_test)\n",
            "r2_xgbr = r2_score(y_test_duration_in_minutes, y_pred_xgbr)\n",
            "mse_xgbr = mean_squared_error(y_test_duration_in_minutes, y_pred_xgbr)\n",
            "# Save the model\n",
            "with open('xgboost_time.pkl', 'wb') as file:\n",
            "    pickle.dump(xgbr, file)\n",
            "\n",
            "# Print the results\n",
            "print(f\"LightGBM Regressor - R2: {r2_lgbm:.4f}, MSE: {mse_lgbm:.4f}\")\n",
            "print(f\"XGBoost Regressor - R2: {r2_xgbr:.4f}, MSE: {mse_xgbr:.4f}\")\n"
         ]
      },
      {
         "cell_type": "code",
         "execution_count": 137,
         "metadata": {},
         "outputs": [
            {
               "name": "stdout",
               "output_type": "stream",
               "text": [
                  "MAE: 8.499936202490034\n",
                  "MSE: 227.1152783615407\n",
                  "RMSE: 15.070344334537971\n",
                  "R2: 0.3392703528507055\n",
                  "_________________________:\n",
                  "MAE: 8.459752577545961\n",
                  "MSE: 204.6382722531288\n",
                  "RMSE: 14.305183405085334\n",
                  "R2: 0.35828908484859767\n"
               ]
            }
         ],
         "source": [
            "from sklearn.linear_model import LinearRegression\n",
            "from sklearn.metrics import mean_absolute_error, mean_squared_error, r2_score\n",
            "from src.save_model import save_total_trip_model,save_duration_trip_model\n",
            "import math\n",
            "\n",
            "# Create a linear regression model\n",
            "model = LinearRegression()\n",
            "\n",
            "# Fit the model\n",
            "model.fit(X_train, y_train_total_amount)\n",
            "\n",
            "save_total_trip_model(model)\n",
            "# Predict using the model\n",
            "\n",
            "y_pred_train = model.predict(X_train)\n",
            "print('MAE:', mean_absolute_error(y_train_total_amount, y_pred_train))\n",
            "print('MSE:', mean_squared_error(y_train_total_amount, y_pred_train))\n",
            "print('RMSE:', math.sqrt(mean_squared_error(y_train_total_amount, y_pred_train)))\n",
            "print('R2:', r2_score(y_train_total_amount, y_pred_train))\n",
            "print('_________________________:')\n",
            "\n",
            "y_pred_val = model.predict(X_val)\n",
            "print('MAE:', mean_absolute_error(y_val_total_amount, y_pred_val))\n",
            "print('MSE:', mean_squared_error(y_val_total_amount, y_pred_val))\n",
            "print('RMSE:', math.sqrt(mean_squared_error(y_val_total_amount, y_pred_val)))\n",
            "print('R2:', r2_score(y_val_total_amount, y_pred_val))"
         ]
      },
      {
         "cell_type": "markdown",
         "metadata": {},
         "source": [
            "#### Trip duration prediction"
         ]
      },
      {
         "cell_type": "code",
         "execution_count": 138,
         "metadata": {},
         "outputs": [
            {
               "name": "stdout",
               "output_type": "stream",
               "text": [
                  "(2767016, 11)\n",
                  "(2767016,)\n",
                  "MAE: 10.507362989449026\n",
                  "MSE: 2689.339306865035\n",
                  "RMSE: 51.85884019976763\n",
                  "R2: 0.017765573487283692\n",
                  "_________________________:\n",
                  "MAE: 10.524926375876877\n",
                  "MSE: 2739.279361595603\n",
                  "RMSE: 52.33812531602181\n",
                  "R2: 0.01666234906141406\n"
               ]
            }
         ],
         "source": [
            "# Create a linear regression model\n",
            "model_duration = LinearRegression()\n",
            "\n",
            "print(X_train.shape)\n",
            "print(y_train_duration_in_minutes.shape)\n",
            "# Fit the model\n",
            "model_duration.fit(X_train, y_train_duration_in_minutes)\n",
            "\n",
            "save_duration_trip_model(model_duration)\n",
            "# Predict using the model\n",
            "\n",
            "y_pred_train = model_duration.predict(X_train)\n",
            "print('MAE:', mean_absolute_error(y_train_duration_in_minutes, y_pred_train))\n",
            "print('MSE:', mean_squared_error(y_train_duration_in_minutes, y_pred_train))\n",
            "print('RMSE:', math.sqrt(mean_squared_error(y_train_duration_in_minutes, y_pred_train)))\n",
            "print('R2:', r2_score(y_train_duration_in_minutes, y_pred_train))\n",
            "print('_________________________:')\n",
            "\n",
            "y_pred_val = model_duration.predict(X_val)\n",
            "print('MAE:', mean_absolute_error(y_val_duration_in_minutes, y_pred_val))\n",
            "print('MSE:', mean_squared_error(y_val_duration_in_minutes, y_pred_val))\n",
            "print('RMSE:', math.sqrt(mean_squared_error(y_val_duration_in_minutes, y_pred_val)))\n",
            "print('R2:', r2_score(y_val_duration_in_minutes, y_pred_val))"
         ]
      },
      {
         "cell_type": "markdown",
         "metadata": {},
         "source": [
            "### DecisionTreeRegressor"
         ]
      },
      {
         "cell_type": "code",
         "execution_count": 139,
         "metadata": {},
         "outputs": [],
         "source": [
            "from sklearn.tree import DecisionTreeRegressor\n",
            "from sklearn.ensemble import RandomForestRegressor, GradientBoostingRegressor\n",
            "from sklearn.metrics import mean_absolute_error, mean_squared_error, r2_score\n",
            "import math"
         ]
      },
      {
         "cell_type": "code",
         "execution_count": 140,
         "metadata": {},
         "outputs": [
            {
               "name": "stdout",
               "output_type": "stream",
               "text": [
                  "MAE: 5.927281148257893\n",
                  "MSE: 128.48125407285585\n",
                  "RMSE: 11.334957171196363\n",
                  "R2: 0.6262190096532394\n",
                  "val:\n",
                  "MAE: 5.91380714453071\n",
                  "MSE: 108.65590724153505\n",
                  "RMSE: 10.423814428582995\n",
                  "R2: 0.6592735029236191\n"
               ]
            }
         ],
         "source": [
            "tree = DecisionTreeRegressor(max_depth=10)\n",
            "tree.fit(X_train, y_train_total_amount)\n",
            "\n",
            "# Evaluate the model\n",
            "y_pred_train_DTR = tree.predict(X_train)\n",
            "\n",
            "\n",
            "\n",
            "print('MAE:', mean_absolute_error(y_train_total_amount, y_pred_train_DTR))\n",
            "print('MSE:', mean_squared_error(y_train_total_amount, y_pred_train_DTR))\n",
            "print('RMSE:', math.sqrt(mean_squared_error(y_train_total_amount, y_pred_train_DTR)))\n",
            "print('R2:', r2_score(y_train_total_amount, y_pred_train_DTR))\n",
            "\n",
            "y_pred_val_DTR = tree.predict(X_val)\n",
            "\n",
            "print('val:')\n",
            "\n",
            "print('MAE:', mean_absolute_error(y_val_total_amount, y_pred_val_DTR))\n",
            "print('MSE:', mean_squared_error(y_val_total_amount, y_pred_val_DTR))\n",
            "print('RMSE:', math.sqrt(mean_squared_error(y_val_total_amount, y_pred_val_DTR)))\n",
            "print('R2:', r2_score(y_val_total_amount, y_pred_val_DTR))"
         ]
      },
      {
         "cell_type": "markdown",
         "metadata": {},
         "source": [
            "### XGBRegressor"
         ]
      },
      {
         "cell_type": "code",
         "execution_count": 143,
         "metadata": {},
         "outputs": [
            {
               "name": "stdout",
               "output_type": "stream",
               "text": [
                  "__version__ 2.0.3\n",
                  "MAE: 8.499936202490034\n",
                  "MSE: 227.1152783615407\n",
                  "RMSE: 15.070344334537971\n",
                  "R2: 0.34\n",
                  "Val:\n",
                  "MAE: 8.459752577545961\n",
                  "MSE: 204.6382722531288\n",
                  "RMSE: 14.305183405085334\n",
                  "R2: 0.36\n"
               ]
            }
         ],
         "source": [
            "import xgboost as xgb\n",
            "print('__version__',xgb.__version__)\n",
            "from sklearn.datasets import make_regression\n",
            "#XGBRegressor\n",
            "model_xgb = xgb.XGBRegressor(objective='reg:squarederror', n_jobs=1, random_state=42,\n",
            "                               n_estimators=500, max_depth=5, learning_rate=00.1, \n",
            "                               subsample=0.8, colsample_bytree=0.8)\n",
            "\n",
            "# Fit the model\n",
            "model_xgb.fit(X_train, y_train_total_amount)\n",
            "\n",
            "y_pred_train_xgb = model.predict(X_train)\n",
            "\n",
            "print('MAE:', mean_absolute_error(y_train_total_amount, y_pred_train_xgb))\n",
            "print(\"MSE:\", mean_squared_error(y_train_total_amount, y_pred_train_xgb))\n",
            "print('RMSE:', math.sqrt(mean_squared_error(y_train_total_amount, y_pred_train_xgb)))\n",
            "r2 = r2_score(y_train_total_amount, y_pred_train_xgb)\n",
            "print(f\"R2: {r2_score(y_train_total_amount, y_pred_train_xgb):.2f}\")\n",
            "\n",
            "# Predicting the Test set results\n",
            "y_pred_val_xgb = model.predict(X_val)\n",
            "\n",
            "print(\"Val:\")\n",
            "print('MAE:', mean_absolute_error(y_val_total_amount, y_pred_val_xgb))\n",
            "print(\"MSE:\", mean_squared_error(y_val_total_amount, y_pred_val_xgb))\n",
            "print('RMSE:', math.sqrt(mean_squared_error(y_val_total_amount, y_pred_val_xgb)))\n",
            "print(f\"R2: {r2_score(y_val_total_amount, y_pred_val_xgb):.2f}\")"
         ]
      },
      {
         "cell_type": "markdown",
         "metadata": {},
         "source": [
            "#### Random Forest Regressor"
         ]
      },
      {
         "cell_type": "code",
         "execution_count": 150,
         "metadata": {},
         "outputs": [
            {
               "name": "stdout",
               "output_type": "stream",
               "text": [
                  "MAE: 7.254991895333542\n",
                  "MSE: 172.27699229871806\n",
                  "RMSE: 13.125433032807644\n",
                  "R2: 0.50\n",
                  "Val:\n",
                  "MAE: 8.459752577545961\n",
                  "MSE: 204.6382722531288\n",
                  "RMSE: 14.305183405085334\n",
                  "R2: 0.36\n"
               ]
            }
         ],
         "source": [
            "rf_reg = RandomForestRegressor(n_estimators=6, max_depth=5, random_state=42, n_jobs=1)\n",
            "rf_reg.fit(X_train, y_train_total_amount)\n",
            "\n",
            "# Evaluate the model\n",
            "y_pred_train_RFR = rf_reg.predict(X_train)\n",
            "\n",
            "print('MAE:', mean_absolute_error(y_train_total_amount, y_pred_train_RFR))\n",
            "print(\"MSE:\", mean_squared_error(y_train_total_amount, y_pred_train_RFR))\n",
            "print('RMSE:', math.sqrt(mean_squared_error(y_train_total_amount, y_pred_train_RFR)))\n",
            "r2 = r2_score(y_train_total_amount, y_pred_train_RFR)\n",
            "print(f\"R2: {r2_score(y_train_total_amount, y_pred_train_RFR):.2f}\")\n",
            "\n",
            "# Predicting the Test set results\n",
            "y_pred_val_RFR = model.predict(X_val)\n",
            "\n",
            "print(\"Val:\")\n",
            "print('MAE:', mean_absolute_error(y_val_total_amount, y_pred_val_RFR))\n",
            "print(\"MSE:\", mean_squared_error(y_val_total_amount, y_pred_val_RFR))\n",
            "print('RMSE:', math.sqrt(mean_squared_error(y_val_total_amount, y_pred_val_RFR)))\n",
            "print(f\"R2: {r2_score(y_val_total_amount, y_pred_val_RFR):.2f}\")"
         ]
      },
      {
         "cell_type": "markdown",
         "metadata": {},
         "source": [
            "## Advanced cross validation\n",
            "\n"
         ]
      },
      {
         "cell_type": "code",
         "execution_count": 153,
         "metadata": {},
         "outputs": [
            {
               "name": "stdout",
               "output_type": "stream",
               "text": [
                  "MSE: 115.78741919896211 Std: 49.406062188298016\n"
               ]
            }
         ],
         "source": [
            "from sklearn.model_selection import cross_val_score, KFold\n",
            "X, y = X_train, y_train_total_amount\n",
            "# Create a random forest regression model\n",
            "model = RandomForestRegressor(n_estimators=10)\n",
            "\n",
            "# Configure the cross-validation procedure\n",
            "cv = KFold(n_splits=10, shuffle=True)\n",
            "\n",
            "# Evaluate the model using the cross-validation procedure\n",
            "scores = cross_val_score(model, X, y, scoring='neg_mean_squared_error', cv=cv)\n",
            "\n",
            "# The scores are negative, which is how scikit-learn shows them for MSE (want to maximize negative MSE)\n",
            "mse_scores = -scores\n",
            "\n",
            "# Mean and standard deviation of MSE across all folds\n",
            "print(\"MSE:\", mse_scores.mean(), \"Std:\", mse_scores.std())"
         ]
      },
      {
         "cell_type": "code",
         "execution_count": null,
         "metadata": {},
         "outputs": [],
         "source": []
      },
      {
         "cell_type": "code",
         "execution_count": 154,
         "metadata": {},
         "outputs": [],
         "source": [
            "from sklearn.ensemble import StackingRegressor\n",
            "import xgboost as xgb\n",
            "# Base models\n",
            "model1 = RandomForestRegressor(random_state=42)\n",
            "model2 = xgb.XGBRegressor(objective='reg:squarederror', n_estimators=100, seed=123)\n",
            "model3 = RandomForestRegressor(n_estimators=100)\n",
            "\n",
            "# Defining the meta model, using a regressor \n",
            "meta_model = RandomForestRegressor(random_state=42)\n",
            "\n",
            "# Create Stacking model\n",
            "stacking_model = StackingRegressor(\n",
            "    estimators=[('rf1', model1), ('xgb', model2), ('rf2', model3)],\n",
            "    final_estimator=meta_model,\n",
            "    cv=5\n",
            ")\n",
            "\n",
            "# Training the model\n",
            "stacking_model.fit(X_train, y_train_total_amount)\n",
            "\n",
            "# Predictions\n",
            "y_pred = stacking_model.predict(X_test)\n",
            "\n",
            "# Evaluation metrics\n",
            "# Calculate MSE\n",
            "mse = mean_squared_error(y_test_total_amount, y_pred)\n",
            "print(f\"Mean Squared Error: {mse:.2f}\")\n",
            "\n",
            "# Calculate R-squared\n",
            "r2 = r2_score(y_test, y_pred)\n",
            "print(f\"R-squared: {r2:.2f}\")"
         ]
      }
   ],
   "metadata": {
      "kernelspec": {
         "display_name": "finalprojectenv",
         "language": "python",
         "name": "python3"
      },
      "language_info": {
         "codemirror_mode": {
            "name": "ipython",
            "version": 3
         },
         "file_extension": ".py",
         "mimetype": "text/x-python",
         "name": "python",
         "nbconvert_exporter": "python",
         "pygments_lexer": "ipython3",
         "version": "3.10.13"
      },
      "vscode": {
         "interpreter": {
            "hash": "5efa683b5b1ae7e8e11b6b316072de2b1afb735b3660bedb7c7a61c7b9dc51db"
         }
      }
   },
   "nbformat": 4,
   "nbformat_minor": 2
}
