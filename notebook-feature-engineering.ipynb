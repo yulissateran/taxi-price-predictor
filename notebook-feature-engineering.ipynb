{
   "cells": [
      {
         "cell_type": "markdown",
         "metadata": {},
         "source": [
            "## 1. Preprocessing"
         ]
      },
      {
         "cell_type": "markdown",
         "metadata": {},
         "source": [
            "### Getting the data"
         ]
      },
      {
         "cell_type": "code",
         "execution_count": 1,
         "metadata": {},
         "outputs": [
            {
               "name": "stderr",
               "output_type": "stream",
               "text": [
                  "/var/folders/8l/99yl7qnx0kz6v5fgdbr9x4y00000gn/T/ipykernel_71263/3562251875.py:1: DeprecationWarning: the imp module is deprecated in favour of importlib and slated for removal in Python 3.12; see the module's documentation for alternative uses\n",
                  "  from imp import reload\n"
               ]
            }
         ],
         "source": [
            "from imp import reload\n",
            "from src import config, data_utils, preprocessing\n",
            "import pandas as pd"
         ]
      },
      {
         "cell_type": "code",
         "execution_count": 2,
         "metadata": {},
         "outputs": [],
         "source": [
            "app_train, app_test = data_utils.get_datasets()"
         ]
      },
      {
         "cell_type": "code",
         "execution_count": 3,
         "metadata": {},
         "outputs": [
            {
               "name": "stdout",
               "output_type": "stream",
               "text": [
                  "Index(['VendorID', 'passenger_count', 'trip_distance', 'RatecodeID',\n",
                  "       'store_and_fwd_flag', 'PULocationID', 'DOLocationID', 'payment_type',\n",
                  "       'fare_amount', 'extra', 'mta_tax', 'tip_amount', 'tolls_amount',\n",
                  "       'improvement_surcharge', 'total_amount', 'congestion_surcharge',\n",
                  "       'airport_fee', 'pickup_day', 'pickup_hour', 'pickup_minute',\n",
                  "       'dropoff_day', 'dropoff_hour', 'dropoff_minute'],\n",
                  "      dtype='object')\n"
               ]
            }
         ],
         "source": [
            "# Now we execute the function above to get the result\n",
            "reload(data_utils)\n",
            "X_train, y_train, X_test, y_test = data_utils.get_feature_target(app_train, app_test)"
         ]
      },
      {
         "cell_type": "code",
         "execution_count": 4,
         "metadata": {},
         "outputs": [],
         "source": [
            "X_train, X_val, y_train, y_val = data_utils.get_train_val_sets(X_train, y_train)"
         ]
      },
      {
         "cell_type": "code",
         "execution_count": 5,
         "metadata": {},
         "outputs": [
            {
               "name": "stdout",
               "output_type": "stream",
               "text": [
                  "Input train data shape:  (2739050, 22)\n",
                  "Input val data shape:  (684763, 22)\n",
                  "Input test data shape:  (3425676, 23) \n",
                  "\n"
               ]
            }
         ],
         "source": [
            "reload(preprocessing)\n",
            "reload(data_utils)\n",
            "train_data, val_data, test_data = preprocessing.preprocess_data(X_train, X_val, X_test)"
         ]
      },
      {
         "cell_type": "code",
         "execution_count": 6,
         "metadata": {},
         "outputs": [],
         "source": [
            "import importlib\n",
            "importlib.reload(config)\n",
            "train_data = pd.DataFrame(train_data)\n",
            "val_data = pd.DataFrame(val_data)\n",
            "test_data = pd.DataFrame(test_data)\n",
            "train_data.to_csv(config.DATASET_TRAIN_DATA, index=False)\n",
            "val_data.to_csv(config.DATASET_VAL_DATA, index=False)\n",
            "test_data.to_csv(config.DATASET_TEST_DATA, index=False)"
         ]
      },
      {
         "cell_type": "markdown",
         "metadata": {},
         "source": []
      }
   ],
   "metadata": {
      "kernelspec": {
         "display_name": "finalprojectenv",
         "language": "python",
         "name": "python3"
      },
      "language_info": {
         "codemirror_mode": {
            "name": "ipython",
            "version": 3
         },
         "file_extension": ".py",
         "mimetype": "text/x-python",
         "name": "python",
         "nbconvert_exporter": "python",
         "pygments_lexer": "ipython3",
         "version": "3.11.7"
      },
      "vscode": {
         "interpreter": {
            "hash": "5efa683b5b1ae7e8e11b6b316072de2b1afb735b3660bedb7c7a61c7b9dc51db"
         }
      }
   },
   "nbformat": 4,
   "nbformat_minor": 2
}
