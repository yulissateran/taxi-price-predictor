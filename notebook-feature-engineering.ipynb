{
   "cells": [
      {
         "cell_type": "markdown",
         "metadata": {},
         "source": [
            "## 1. Preprocessing"
         ]
      },
      {
         "cell_type": "code",
         "execution_count": 3,
         "metadata": {},
         "outputs": [],
         "source": [
            "from imp import reload\n",
            "from src import config, data_utils, preprocessing\n",
            "import pandas as pd"
         ]
      },
      {
         "cell_type": "markdown",
         "metadata": {},
         "source": [
            "### Getting the data"
         ]
      },
      {
         "cell_type": "code",
         "execution_count": 4,
         "metadata": {},
         "outputs": [
            {
               "data": {
                  "text/plain": [
                     "Index(['VendorID', 'tpep_pickup_datetime', 'tpep_dropoff_datetime',\n",
                     "       'passenger_count', 'trip_distance', 'RatecodeID', 'store_and_fwd_flag',\n",
                     "       'PULocationID', 'DOLocationID', 'payment_type', 'fare_amount', 'extra',\n",
                     "       'mta_tax', 'tip_amount', 'tolls_amount', 'improvement_surcharge',\n",
                     "       'total_amount', 'congestion_surcharge', 'airport_fee'],\n",
                     "      dtype='object')"
                  ]
               },
               "execution_count": 4,
               "metadata": {},
               "output_type": "execute_result"
            }
         ],
         "source": [
            "app_train, app_test = data_utils.get_datasets()\n",
            "app_train.columns"
         ]
      },
      {
         "cell_type": "markdown",
         "metadata": {},
         "source": [
            "## Agregating columns"
         ]
      },
      {
         "cell_type": "code",
         "execution_count": 5,
         "metadata": {},
         "outputs": [],
         "source": [
            "\n",
            "reload(data_utils)\n",
            "app_train =  data_utils.agregate_columns(app_train)\n",
            "app_test =  data_utils.agregate_columns(app_test)"
         ]
      },
      {
         "cell_type": "markdown",
         "metadata": {},
         "source": [
            "## Split targets from dataset"
         ]
      },
      {
         "cell_type": "code",
         "execution_count": 6,
         "metadata": {},
         "outputs": [],
         "source": [
            "(\n",
            " X_train,\n",
            " y_train_total_amount,\n",
            " y_train_duration_in_minutes,\n",
            " X_test,\n",
            " y_test_total_amount,\n",
            " y_test_duration_in_minutes\n",
            ") = data_utils.get_feature_target(app_train, app_test)"
         ]
      },
      {
         "cell_type": "markdown",
         "metadata": {},
         "source": [
            "## Stract validation dataset"
         ]
      },
      {
         "cell_type": "code",
         "execution_count": 7,
         "metadata": {},
         "outputs": [],
         "source": [
            "(\n",
            "X_train,\n",
            "X_val,\n",
            "y_train_total_amount,\n",
            "y_val_total_amount,\n",
            "y_train_duration_in_minutes,\n",
            "y_val_duration_in_minutes\n",
            ") = data_utils.get_train_val_sets(X_train, y_train_total_amount, y_train_duration_in_minutes)"
         ]
      },
      {
         "cell_type": "code",
         "execution_count": 132,
         "metadata": {},
         "outputs": [
            {
               "name": "stdout",
               "output_type": "stream",
               "text": [
                  "(2767016, 21) (691755, 21) (3425676, 21)\n"
               ]
            }
         ],
         "source": [
            "print(X_train.shape, X_val.shape, X_test.shape)"
         ]
      },
      {
         "cell_type": "markdown",
         "metadata": {},
         "source": [
            "## Clear and encode datasets"
         ]
      },
      {
         "cell_type": "code",
         "execution_count": 133,
         "metadata": {},
         "outputs": [
            {
               "data": {
                  "text/plain": [
                     "<module 'src.preprocessing' from '/Users/yulissaterancerquin/Documents/taxi-price-predictor/src/preprocessing.py'>"
                  ]
               },
               "execution_count": 133,
               "metadata": {},
               "output_type": "execute_result"
            }
         ],
         "source": [
            "reload(preprocessing)"
         ]
      },
      {
         "cell_type": "code",
         "execution_count": 8,
         "metadata": {},
         "outputs": [
            {
               "name": "stdout",
               "output_type": "stream",
               "text": [
                  "Input train data shape:  (2767016, 21)\n",
                  "Input val data shape:  (691755, 21)\n",
                  "Input test data shape:  (3425676, 21) \n",
                  "\n",
                  "columns Index(['passenger_count', 'PULocationID', 'DOLocationID', 'payment_type',\n",
                  "       'improvement_surcharge', 'airport_fee', 'pickup_year', 'pickup_day',\n",
                  "       'pickup_day_of_week', 'pickup_hour', 'pickup_minute'],\n",
                  "      dtype='object')\n"
               ]
            }
         ],
         "source": [
            "X_train, X_val, X_test = preprocessing.preprocess_data(X_train, X_val, X_test)"
         ]
      },
      {
         "cell_type": "code",
         "execution_count": 135,
         "metadata": {},
         "outputs": [
            {
               "name": "stdout",
               "output_type": "stream",
               "text": [
                  "(2767016, 11)\n",
                  "(2767016,)\n"
               ]
            }
         ],
         "source": [
            "print(X_train.shape)\n",
            "print(y_train_total_amount.shape)"
         ]
      },
      {
         "cell_type": "markdown",
         "metadata": {},
         "source": [
            "## Models"
         ]
      },
      {
         "cell_type": "markdown",
         "metadata": {},
         "source": [
            "### Linear Regression"
         ]
      },
      {
         "cell_type": "code",
         "execution_count": 10,
         "metadata": {},
         "outputs": [
            {
               "name": "stdout",
               "output_type": "stream",
               "text": [
                  "[[0.2        0.90458015 0.94656489 ... 1.         0.95652174 0.10169492]\n",
                  " [0.         1.         0.87022901 ... 0.66666667 0.69565217 0.50847458]\n",
                  " [0.2        0.61832061 0.33969466 ... 1.         0.91304348 0.33898305]\n",
                  " ...\n",
                  " [0.         0.29770992 0.59923664 ... 0.66666667 0.56521739 0.88135593]\n",
                  " [0.         0.5        0.8740458  ... 0.33333333 0.43478261 0.96610169]\n",
                  " [0.         0.32824427 0.79389313 ... 0.66666667 0.52173913 0.96610169]]\n"
               ]
            }
         ],
         "source": []
      },
      {
         "cell_type": "markdown",
         "metadata": {},
         "source": [
            "#### Total amount prediction"
         ]
      },
      {
         "cell_type": "code",
         "execution_count": 137,
         "metadata": {},
         "outputs": [
            {
               "name": "stdout",
               "output_type": "stream",
               "text": [
                  "MAE: 8.499936202490034\n",
                  "MSE: 227.1152783615407\n",
                  "RMSE: 15.070344334537971\n",
                  "R2: 0.3392703528507055\n",
                  "_________________________:\n",
                  "MAE: 8.459752577545961\n",
                  "MSE: 204.6382722531288\n",
                  "RMSE: 14.305183405085334\n",
                  "R2: 0.35828908484859767\n"
               ]
            }
         ],
         "source": [
            "from sklearn.linear_model import LinearRegression\n",
            "from sklearn.metrics import mean_absolute_error, mean_squared_error, r2_score\n",
            "from src.save_model import save_total_trip_model,save_duration_trip_model\n",
            "import math\n",
            "\n",
            "# Create a linear regression model\n",
            "model = LinearRegression()\n",
            "\n",
            "# Fit the model\n",
            "model.fit(X_train, y_train_total_amount)\n",
            "\n",
            "save_total_trip_model(model)\n",
            "# Predict using the model\n",
            "\n",
            "y_pred_train = model.predict(X_train)\n",
            "print('MAE:', mean_absolute_error(y_train_total_amount, y_pred_train))\n",
            "print('MSE:', mean_squared_error(y_train_total_amount, y_pred_train))\n",
            "print('RMSE:', math.sqrt(mean_squared_error(y_train_total_amount, y_pred_train)))\n",
            "print('R2:', r2_score(y_train_total_amount, y_pred_train))\n",
            "print('_________________________:')\n",
            "\n",
            "y_pred_val = model.predict(X_val)\n",
            "print('MAE:', mean_absolute_error(y_val_total_amount, y_pred_val))\n",
            "print('MSE:', mean_squared_error(y_val_total_amount, y_pred_val))\n",
            "print('RMSE:', math.sqrt(mean_squared_error(y_val_total_amount, y_pred_val)))\n",
            "print('R2:', r2_score(y_val_total_amount, y_pred_val))"
         ]
      },
      {
         "cell_type": "markdown",
         "metadata": {},
         "source": [
            "#### Trip duration prediction"
         ]
      },
      {
         "cell_type": "code",
         "execution_count": 138,
         "metadata": {},
         "outputs": [
            {
               "name": "stdout",
               "output_type": "stream",
               "text": [
                  "(2767016, 11)\n",
                  "(2767016,)\n",
                  "MAE: 10.507362989449026\n",
                  "MSE: 2689.339306865035\n",
                  "RMSE: 51.85884019976763\n",
                  "R2: 0.017765573487283692\n",
                  "_________________________:\n",
                  "MAE: 10.524926375876877\n",
                  "MSE: 2739.279361595603\n",
                  "RMSE: 52.33812531602181\n",
                  "R2: 0.01666234906141406\n"
               ]
            }
         ],
         "source": [
            "# Create a linear regression model\n",
            "model_duration = LinearRegression()\n",
            "\n",
            "print(X_train.shape)\n",
            "print(y_train_duration_in_minutes.shape)\n",
            "# Fit the model\n",
            "model_duration.fit(X_train, y_train_duration_in_minutes)\n",
            "\n",
            "save_duration_trip_model(model_duration)\n",
            "# Predict using the model\n",
            "\n",
            "y_pred_train = model_duration.predict(X_train)\n",
            "print('MAE:', mean_absolute_error(y_train_duration_in_minutes, y_pred_train))\n",
            "print('MSE:', mean_squared_error(y_train_duration_in_minutes, y_pred_train))\n",
            "print('RMSE:', math.sqrt(mean_squared_error(y_train_duration_in_minutes, y_pred_train)))\n",
            "print('R2:', r2_score(y_train_duration_in_minutes, y_pred_train))\n",
            "print('_________________________:')\n",
            "\n",
            "y_pred_val = model_duration.predict(X_val)\n",
            "print('MAE:', mean_absolute_error(y_val_duration_in_minutes, y_pred_val))\n",
            "print('MSE:', mean_squared_error(y_val_duration_in_minutes, y_pred_val))\n",
            "print('RMSE:', math.sqrt(mean_squared_error(y_val_duration_in_minutes, y_pred_val)))\n",
            "print('R2:', r2_score(y_val_duration_in_minutes, y_pred_val))"
         ]
      },
      {
         "cell_type": "markdown",
         "metadata": {},
         "source": [
            "### DecisionTreeRegressor"
         ]
      },
      {
         "cell_type": "code",
         "execution_count": 139,
         "metadata": {},
         "outputs": [],
         "source": [
            "from sklearn.tree import DecisionTreeRegressor\n",
            "from sklearn.ensemble import RandomForestRegressor, GradientBoostingRegressor\n",
            "from sklearn.metrics import mean_absolute_error, mean_squared_error, r2_score\n",
            "import math"
         ]
      },
      {
         "cell_type": "code",
         "execution_count": 140,
         "metadata": {},
         "outputs": [
            {
               "name": "stdout",
               "output_type": "stream",
               "text": [
                  "MAE: 5.927281148257893\n",
                  "MSE: 128.48125407285585\n",
                  "RMSE: 11.334957171196363\n",
                  "R2: 0.6262190096532394\n",
                  "val:\n",
                  "MAE: 5.91380714453071\n",
                  "MSE: 108.65590724153505\n",
                  "RMSE: 10.423814428582995\n",
                  "R2: 0.6592735029236191\n"
               ]
            }
         ],
         "source": [
            "tree = DecisionTreeRegressor(max_depth=10)\n",
            "tree.fit(X_train, y_train_total_amount)\n",
            "\n",
            "# Evaluate the model\n",
            "y_pred_train_DTR = tree.predict(X_train)\n",
            "\n",
            "\n",
            "\n",
            "print('MAE:', mean_absolute_error(y_train_total_amount, y_pred_train_DTR))\n",
            "print('MSE:', mean_squared_error(y_train_total_amount, y_pred_train_DTR))\n",
            "print('RMSE:', math.sqrt(mean_squared_error(y_train_total_amount, y_pred_train_DTR)))\n",
            "print('R2:', r2_score(y_train_total_amount, y_pred_train_DTR))\n",
            "\n",
            "y_pred_val_DTR = tree.predict(X_val)\n",
            "\n",
            "print('val:')\n",
            "\n",
            "print('MAE:', mean_absolute_error(y_val_total_amount, y_pred_val_DTR))\n",
            "print('MSE:', mean_squared_error(y_val_total_amount, y_pred_val_DTR))\n",
            "print('RMSE:', math.sqrt(mean_squared_error(y_val_total_amount, y_pred_val_DTR)))\n",
            "print('R2:', r2_score(y_val_total_amount, y_pred_val_DTR))"
         ]
      },
      {
         "cell_type": "markdown",
         "metadata": {},
         "source": [
            "### XGBRegressor"
         ]
      },
      {
         "cell_type": "code",
         "execution_count": 143,
         "metadata": {},
         "outputs": [
            {
               "name": "stdout",
               "output_type": "stream",
               "text": [
                  "__version__ 2.0.3\n",
                  "MAE: 8.499936202490034\n",
                  "MSE: 227.1152783615407\n",
                  "RMSE: 15.070344334537971\n",
                  "R2: 0.34\n",
                  "Val:\n",
                  "MAE: 8.459752577545961\n",
                  "MSE: 204.6382722531288\n",
                  "RMSE: 14.305183405085334\n",
                  "R2: 0.36\n"
               ]
            }
         ],
         "source": [
            "import xgboost as xgb\n",
            "print('__version__',xgb.__version__)\n",
            "from sklearn.datasets import make_regression\n",
            "#XGBRegressor\n",
            "model_xgb = xgb.XGBRegressor(objective='reg:squarederror', n_jobs=1, random_state=42,\n",
            "                               n_estimators=500, max_depth=5, learning_rate=00.1, \n",
            "                               subsample=0.8, colsample_bytree=0.8)\n",
            "\n",
            "# Fit the model\n",
            "model_xgb.fit(X_train, y_train_total_amount)\n",
            "\n",
            "y_pred_train_xgb = model.predict(X_train)\n",
            "\n",
            "print('MAE:', mean_absolute_error(y_train_total_amount, y_pred_train_xgb))\n",
            "print(\"MSE:\", mean_squared_error(y_train_total_amount, y_pred_train_xgb))\n",
            "print('RMSE:', math.sqrt(mean_squared_error(y_train_total_amount, y_pred_train_xgb)))\n",
            "r2 = r2_score(y_train_total_amount, y_pred_train_xgb)\n",
            "print(f\"R2: {r2_score(y_train_total_amount, y_pred_train_xgb):.2f}\")\n",
            "\n",
            "# Predicting the Test set results\n",
            "y_pred_val_xgb = model.predict(X_val)\n",
            "\n",
            "print(\"Val:\")\n",
            "print('MAE:', mean_absolute_error(y_val_total_amount, y_pred_val_xgb))\n",
            "print(\"MSE:\", mean_squared_error(y_val_total_amount, y_pred_val_xgb))\n",
            "print('RMSE:', math.sqrt(mean_squared_error(y_val_total_amount, y_pred_val_xgb)))\n",
            "print(f\"R2: {r2_score(y_val_total_amount, y_pred_val_xgb):.2f}\")"
         ]
      },
      {
         "cell_type": "markdown",
         "metadata": {},
         "source": [
            "#### Random Forest Regressor"
         ]
      },
      {
         "cell_type": "code",
         "execution_count": 150,
         "metadata": {},
         "outputs": [
            {
               "name": "stdout",
               "output_type": "stream",
               "text": [
                  "MAE: 7.254991895333542\n",
                  "MSE: 172.27699229871806\n",
                  "RMSE: 13.125433032807644\n",
                  "R2: 0.50\n",
                  "Val:\n",
                  "MAE: 8.459752577545961\n",
                  "MSE: 204.6382722531288\n",
                  "RMSE: 14.305183405085334\n",
                  "R2: 0.36\n"
               ]
            }
         ],
         "source": [
            "rf_reg = RandomForestRegressor(n_estimators=6, max_depth=5, random_state=42, n_jobs=1)\n",
            "rf_reg.fit(X_train, y_train_total_amount)\n",
            "\n",
            "# Evaluate the model\n",
            "y_pred_train_RFR = rf_reg.predict(X_train)\n",
            "\n",
            "print('MAE:', mean_absolute_error(y_train_total_amount, y_pred_train_RFR))\n",
            "print(\"MSE:\", mean_squared_error(y_train_total_amount, y_pred_train_RFR))\n",
            "print('RMSE:', math.sqrt(mean_squared_error(y_train_total_amount, y_pred_train_RFR)))\n",
            "r2 = r2_score(y_train_total_amount, y_pred_train_RFR)\n",
            "print(f\"R2: {r2_score(y_train_total_amount, y_pred_train_RFR):.2f}\")\n",
            "\n",
            "# Predicting the Test set results\n",
            "y_pred_val_RFR = model.predict(X_val)\n",
            "\n",
            "print(\"Val:\")\n",
            "print('MAE:', mean_absolute_error(y_val_total_amount, y_pred_val_RFR))\n",
            "print(\"MSE:\", mean_squared_error(y_val_total_amount, y_pred_val_RFR))\n",
            "print('RMSE:', math.sqrt(mean_squared_error(y_val_total_amount, y_pred_val_RFR)))\n",
            "print(f\"R2: {r2_score(y_val_total_amount, y_pred_val_RFR):.2f}\")"
         ]
      },
      {
         "cell_type": "markdown",
         "metadata": {},
         "source": [
            "## Advanced cross validation\n",
            "\n"
         ]
      },
      {
         "cell_type": "code",
         "execution_count": 153,
         "metadata": {},
         "outputs": [
            {
               "name": "stdout",
               "output_type": "stream",
               "text": [
                  "MSE: 115.78741919896211 Std: 49.406062188298016\n"
               ]
            }
         ],
         "source": [
            "from sklearn.model_selection import cross_val_score, KFold\n",
            "X, y = X_train, y_train_total_amount\n",
            "# Create a random forest regression model\n",
            "model = RandomForestRegressor(n_estimators=10)\n",
            "\n",
            "# Configure the cross-validation procedure\n",
            "cv = KFold(n_splits=10, shuffle=True)\n",
            "\n",
            "# Evaluate the model using the cross-validation procedure\n",
            "scores = cross_val_score(model, X, y, scoring='neg_mean_squared_error', cv=cv)\n",
            "\n",
            "# The scores are negative, which is how scikit-learn shows them for MSE (want to maximize negative MSE)\n",
            "mse_scores = -scores\n",
            "\n",
            "# Mean and standard deviation of MSE across all folds\n",
            "print(\"MSE:\", mse_scores.mean(), \"Std:\", mse_scores.std())"
         ]
      },
      {
         "cell_type": "code",
         "execution_count": null,
         "metadata": {},
         "outputs": [],
         "source": []
      },
      {
         "cell_type": "code",
         "execution_count": 154,
         "metadata": {},
         "outputs": [],
         "source": [
            "from sklearn.ensemble import StackingRegressor\n",
            "import xgboost as xgb\n",
            "# Base models\n",
            "model1 = RandomForestRegressor(random_state=42)\n",
            "model2 = xgb.XGBRegressor(objective='reg:squarederror', n_estimators=100, seed=123)\n",
            "model3 = RandomForestRegressor(n_estimators=100)\n",
            "\n",
            "# Defining the meta model, using a regressor \n",
            "meta_model = RandomForestRegressor(random_state=42)\n",
            "\n",
            "# Create Stacking model\n",
            "stacking_model = StackingRegressor(\n",
            "    estimators=[('rf1', model1), ('xgb', model2), ('rf2', model3)],\n",
            "    final_estimator=meta_model,\n",
            "    cv=5\n",
            ")\n",
            "\n",
            "# Training the model\n",
            "stacking_model.fit(X_train, y_train_total_amount)\n",
            "\n",
            "# Predictions\n",
            "y_pred = stacking_model.predict(X_test)\n",
            "\n",
            "# Evaluation metrics\n",
            "# Calculate MSE\n",
            "mse = mean_squared_error(y_test_total_amount, y_pred)\n",
            "print(f\"Mean Squared Error: {mse:.2f}\")\n",
            "\n",
            "# Calculate R-squared\n",
            "r2 = r2_score(y_test, y_pred)\n",
            "print(f\"R-squared: {r2:.2f}\")"
         ]
      }
   ],
   "metadata": {
      "kernelspec": {
         "display_name": "finalprojectenv",
         "language": "python",
         "name": "python3"
      },
      "language_info": {
         "codemirror_mode": {
            "name": "ipython",
            "version": 3
         },
         "file_extension": ".py",
         "mimetype": "text/x-python",
         "name": "python",
         "nbconvert_exporter": "python",
         "pygments_lexer": "ipython3",
         "version": "3.11.7"
      },
      "vscode": {
         "interpreter": {
            "hash": "5efa683b5b1ae7e8e11b6b316072de2b1afb735b3660bedb7c7a61c7b9dc51db"
         }
      }
   },
   "nbformat": 4,
   "nbformat_minor": 2
}
