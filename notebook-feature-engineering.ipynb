{
   "cells": [
      {
         "cell_type": "markdown",
         "metadata": {},
         "source": [
            "## 1. Preprocessing"
         ]
      },
      {
         "cell_type": "markdown",
         "metadata": {},
         "source": [
            "### Getting the data"
         ]
      },
      {
         "cell_type": "code",
         "execution_count": 1,
         "metadata": {},
         "outputs": [
            {
               "name": "stderr",
               "output_type": "stream",
               "text": [
                  "C:\\Users\\Rafael\\AppData\\Local\\Temp\\ipykernel_14908\\3562251875.py:1: DeprecationWarning: the imp module is deprecated in favour of importlib and slated for removal in Python 3.12; see the module's documentation for alternative uses\n",
                  "  from imp import reload\n"
               ]
            }
         ],
         "source": [
            "from imp import reload\n",
            "from src import config, data_utils, preprocessing\n",
            "import pandas as pd"
         ]
      },
      {
         "cell_type": "code",
         "execution_count": 2,
         "metadata": {},
         "outputs": [
            {
               "name": "stderr",
               "output_type": "stream",
               "text": [
                  "Downloading...\n",
                  "From: https://d37ci6vzurychx.cloudfront.net/trip-data/yellow_tripdata_2022-06.parquet\n",
                  "To: c:\\Users\\Rafael\\Desktop\\AnyoneAI\\FinalProject\\taxi-price-predictor\\dataset\\trans_data_TEST.parquet\n",
                  "100%|██████████| 55.4M/55.4M [01:10<00:00, 789kB/s] \n"
               ]
            }
         ],
         "source": [
            "app_train, app_test = data_utils.get_datasets()"
         ]
      },
      {
         "cell_type": "code",
         "execution_count": 3,
         "metadata": {},
         "outputs": [
            {
               "name": "stdout",
               "output_type": "stream",
               "text": [
                  "Index(['VendorID', 'passenger_count', 'trip_distance', 'RatecodeID',\n",
                  "       'store_and_fwd_flag', 'PULocationID', 'DOLocationID', 'payment_type',\n",
                  "       'fare_amount', 'extra', 'mta_tax', 'tip_amount', 'tolls_amount',\n",
                  "       'improvement_surcharge', 'total_amount', 'congestion_surcharge',\n",
                  "       'airport_fee', 'pickup_day', 'pickup_hour', 'pickup_minute',\n",
                  "       'dropoff_day', 'dropoff_hour', 'dropoff_minute'],\n",
                  "      dtype='object')\n"
               ]
            }
         ],
         "source": [
            "# Now we execute the function above to get the result\n",
            "reload(data_utils)\n",
            "X_train, y_train, X_test, y_test = data_utils.get_feature_target(app_train, app_test)"
         ]
      },
      {
         "cell_type": "code",
         "execution_count": 4,
         "metadata": {},
         "outputs": [],
         "source": [
            "X_train, X_val, y_train, y_val = data_utils.get_train_val_sets(X_train, y_train)"
         ]
      },
      {
         "cell_type": "code",
         "execution_count": 14,
         "metadata": {},
         "outputs": [
            {
               "name": "stdout",
               "output_type": "stream",
               "text": [
                  "Input train data shape:  (2739050, 22)\n",
                  "Input val data shape:  (684763, 22)\n",
                  "Input test data shape:  (3425676, 23) \n",
                  "\n"
               ]
            }
         ],
         "source": [
            "reload(preprocessing)\n",
            "reload(data_utils)\n",
            "X_train, X_val, X_test = preprocessing.preprocess_data(X_train, X_val, X_test)"
         ]
      },
      {
         "cell_type": "code",
         "execution_count": 6,
         "metadata": {},
         "outputs": [],
         "source": [
            "# import importlib\n",
            "# importlib.reload(config)\n",
            "# train_data = pd.DataFrame(train_data)\n",
            "# val_data = pd.DataFrame(val_data)\n",
            "# test_data = pd.DataFrame(test_data)\n",
            "# train_data.to_csv(config.DATASET_TRAIN_DATA, index=False)\n",
            "# val_data.to_csv(config.DATASET_VAL_DATA, index=False)\n",
            "# test_data.to_csv(config.DATASET_TEST_DATA, index=False)"
         ]
      },
      {
         "cell_type": "markdown",
         "metadata": {},
         "source": []
      },
      {
         "cell_type": "code",
         "execution_count": 17,
         "metadata": {},
         "outputs": [],
         "source": [
            "from sklearn.tree import DecisionTreeRegressor\n",
            "from sklearn.ensemble import RandomForestRegressor, GradientBoostingRegressor\n",
            "from sklearn.metrics import mean_absolute_error, mean_squared_error, r2_score\n",
            "import math"
         ]
      },
      {
         "cell_type": "code",
         "execution_count": 20,
         "metadata": {},
         "outputs": [
            {
               "name": "stdout",
               "output_type": "stream",
               "text": [
                  "MAE: 0.5083001879611697\n",
                  "MSE: 1.157763100732136\n",
                  "RMSE: 1.0759940058997244\n",
                  "R2: 0.9962019191934198\n"
               ]
            }
         ],
         "source": [
            "tree = DecisionTreeRegressor(max_depth=10)\n",
            "tree.fit(X_train, y_train)\n",
            "\n",
            "# Evaluate the model\n",
            "y_pred = tree.predict(X_val)\n",
            "\n",
            "print('MAE:', mean_absolute_error(y_val, y_pred))\n",
            "print('MSE:', mean_squared_error(y_val, y_pred))\n",
            "print('RMSE:', math.sqrt(mean_squared_error(y_val, y_pred)))\n",
            "print('R2:', r2_score(y_val, y_pred))"
         ]
      },
      {
         "cell_type": "code",
         "execution_count": 22,
         "metadata": {},
         "outputs": [
            {
               "name": "stdout",
               "output_type": "stream",
               "text": [
                  "MAE: 0.5019838029988832\n",
                  "MSE: 0.8699139661260424\n",
                  "RMSE: 0.9326917851713086\n",
                  "R2: 0.9972920319812679\n"
               ]
            }
         ],
         "source": [
            "y_pred_train = tree.predict(X_train)\n",
            "\n",
            "print('MAE:', mean_absolute_error(y_train, y_pred_train))\n",
            "print('MSE:', mean_squared_error(y_train, y_pred_train))\n",
            "print('RMSE:', math.sqrt(mean_squared_error(y_train, y_pred_train)))\n",
            "print('R2:', r2_score(y_train, y_pred_train))"
         ]
      },
      {
         "cell_type": "code",
         "execution_count": 27,
         "metadata": {},
         "outputs": [],
         "source": [
            "rf_reg = RandomForestRegressor()\n",
            "rf_reg.fit(X_train, y_train)\n",
            "\n",
            "# Evaluate the model\n",
            "y_pred_train = rf_reg.predict(X_train)\n",
            "\n",
            "print('MAE:', mean_absolute_error(y_train, y_pred_train))\n",
            "print('MSE:', mean_squared_error(y_train, y_pred_train))\n",
            "print('RMSE:', math.sqrt(mean_squared_error(y_train, y_pred_train)))\n",
            "print('R2:', r2_score(y_train, y_pred_train))"
         ]
      },
      {
         "cell_type": "code",
         "execution_count": 25,
         "metadata": {},
         "outputs": [
            {
               "ename": "SyntaxError",
               "evalue": "invalid syntax. Perhaps you forgot a comma? (1243355382.py, line 2)",
               "output_type": "error",
               "traceback": [
                  "\u001b[1;36m  Cell \u001b[1;32mIn[25], line 2\u001b[1;36m\u001b[0m\n\u001b[1;33m    rf_reg.fit(X_train, y _train)\u001b[0m\n\u001b[1;37m                        ^\u001b[0m\n\u001b[1;31mSyntaxError\u001b[0m\u001b[1;31m:\u001b[0m invalid syntax. Perhaps you forgot a comma?\n"
               ]
            }
         ],
         "source": [
            "rf_reg = RandomForestRegressor()\n",
            "rf_reg.fit(X_train, y_train)\n",
            "\n",
            "# Evaluate the model\n",
            "y_pred = rf_reg.predict(X_val)\n",
            "\n",
            "print('MAE:', mean_absolute_error(y_val, y_pred))\n",
            "print('MSE:', mean_squared_error(y_val, y_pred))\n",
            "print('RMSE:', math.sqrt(mean_squared_error(y_val, y_pred)))\n",
            "print('R2:', r2_score(y_val, y_pred))"
         ]
      },
      {
         "cell_type": "code",
         "execution_count": null,
         "metadata": {},
         "outputs": [],
         "source": []
      }
   ],
   "metadata": {
      "kernelspec": {
         "display_name": "finalprojectenv",
         "language": "python",
         "name": "python3"
      },
      "language_info": {
         "codemirror_mode": {
            "name": "ipython",
            "version": 3
         },
         "file_extension": ".py",
         "mimetype": "text/x-python",
         "name": "python",
         "nbconvert_exporter": "python",
         "pygments_lexer": "ipython3",
         "version": "3.11.7"
      },
      "vscode": {
         "interpreter": {
            "hash": "5efa683b5b1ae7e8e11b6b316072de2b1afb735b3660bedb7c7a61c7b9dc51db"
         }
      }
   },
   "nbformat": 4,
   "nbformat_minor": 2
}
