{
   "cells": [
      {
         "cell_type": "markdown",
         "metadata": {},
         "source": [
            "## 1. Preprocessing"
         ]
      },
      {
         "cell_type": "code",
         "execution_count": 13,
         "metadata": {},
         "outputs": [],
         "source": [
            "from imp import reload\n",
            "from src import config, data_utils, preprocessing\n",
            "import pandas as pd"
         ]
      },
      {
         "cell_type": "markdown",
         "metadata": {},
         "source": [
            "### Getting the data"
         ]
      },
      {
         "cell_type": "code",
         "execution_count": 14,
         "metadata": {},
         "outputs": [
            {
               "data": {
                  "text/plain": [
                     "Index(['VendorID', 'tpep_pickup_datetime', 'tpep_dropoff_datetime',\n",
                     "       'passenger_count', 'trip_distance', 'RatecodeID', 'store_and_fwd_flag',\n",
                     "       'PULocationID', 'DOLocationID', 'payment_type', 'fare_amount', 'extra',\n",
                     "       'mta_tax', 'tip_amount', 'tolls_amount', 'improvement_surcharge',\n",
                     "       'total_amount', 'congestion_surcharge', 'airport_fee'],\n",
                     "      dtype='object')"
                  ]
               },
               "execution_count": 14,
               "metadata": {},
               "output_type": "execute_result"
            }
         ],
         "source": [
            "app_train, app_test = data_utils.get_datasets()\n",
            "app_train.columns"
         ]
      },
      {
         "cell_type": "markdown",
         "metadata": {},
         "source": [
            "## Agregating columns"
         ]
      },
      {
         "cell_type": "code",
         "execution_count": 15,
         "metadata": {},
         "outputs": [],
         "source": [
            "\n",
            "reload(data_utils)\n",
            "app_train =  data_utils.agregate_columns(app_train)\n",
            "app_test =  data_utils.agregate_columns(app_test)"
         ]
      },
      {
         "cell_type": "code",
         "execution_count": 16,
         "metadata": {},
         "outputs": [],
         "source": [
            "(\n",
            " X_train,\n",
            " y_train_total_amount,\n",
            " y_train_duration_in_minutes,\n",
            " X_test,\n",
            " y_test_total_amount,\n",
            " y_test_duration_in_minutes\n",
            ") = data_utils.get_feature_target(app_train, app_test)"
         ]
      },
      {
         "cell_type": "code",
         "execution_count": 17,
         "metadata": {},
         "outputs": [
            {
               "data": {
                  "text/plain": [
                     "Index(['VendorID', 'passenger_count', 'trip_distance', 'RatecodeID',\n",
                     "       'store_and_fwd_flag', 'PULocationID', 'DOLocationID', 'payment_type',\n",
                     "       'fare_amount', 'extra', 'mta_tax', 'tip_amount', 'tolls_amount',\n",
                     "       'improvement_surcharge', 'congestion_surcharge', 'airport_fee',\n",
                     "       'pickup_year', 'pickup_day', 'pickup_hour', 'pickup_minute'],\n",
                     "      dtype='object')"
                  ]
               },
               "execution_count": 17,
               "metadata": {},
               "output_type": "execute_result"
            }
         ],
         "source": [
            "X_train.columns"
         ]
      },
      {
         "cell_type": "code",
         "execution_count": 18,
         "metadata": {},
         "outputs": [
            {
               "name": "stdout",
               "output_type": "stream",
               "text": [
                  "<class 'pandas.core.frame.DataFrame'> <class 'pandas.core.frame.DataFrame'> <class 'pandas.core.frame.DataFrame'>\n"
               ]
            }
         ],
         "source": [
            "(\n",
            "X_train,\n",
            "X_val,\n",
            "y_train_total_amount,\n",
            "y_val_total_amount,\n",
            "y_train_duration_in_minutes,\n",
            "y_val_duration_in_minutes\n",
            ") = data_utils.get_train_val_sets(X_train, y_train_total_amount, y_train_duration_in_minutes)\n",
            "\n",
            "print(type(X_train), type(X_val), type(X_test))"
         ]
      },
      {
         "cell_type": "code",
         "execution_count": 19,
         "metadata": {},
         "outputs": [
            {
               "data": {
                  "text/html": [
                     "<div>\n",
                     "<style scoped>\n",
                     "    .dataframe tbody tr th:only-of-type {\n",
                     "        vertical-align: middle;\n",
                     "    }\n",
                     "\n",
                     "    .dataframe tbody tr th {\n",
                     "        vertical-align: top;\n",
                     "    }\n",
                     "\n",
                     "    .dataframe thead th {\n",
                     "        text-align: right;\n",
                     "    }\n",
                     "</style>\n",
                     "<table border=\"1\" class=\"dataframe\">\n",
                     "  <thead>\n",
                     "    <tr style=\"text-align: right;\">\n",
                     "      <th></th>\n",
                     "      <th>VendorID</th>\n",
                     "      <th>passenger_count</th>\n",
                     "      <th>trip_distance</th>\n",
                     "      <th>RatecodeID</th>\n",
                     "      <th>store_and_fwd_flag</th>\n",
                     "      <th>PULocationID</th>\n",
                     "      <th>DOLocationID</th>\n",
                     "      <th>payment_type</th>\n",
                     "      <th>fare_amount</th>\n",
                     "      <th>extra</th>\n",
                     "      <th>mta_tax</th>\n",
                     "      <th>tip_amount</th>\n",
                     "      <th>tolls_amount</th>\n",
                     "      <th>improvement_surcharge</th>\n",
                     "      <th>congestion_surcharge</th>\n",
                     "      <th>airport_fee</th>\n",
                     "      <th>pickup_year</th>\n",
                     "      <th>pickup_day</th>\n",
                     "      <th>pickup_hour</th>\n",
                     "      <th>pickup_minute</th>\n",
                     "    </tr>\n",
                     "  </thead>\n",
                     "  <tbody>\n",
                     "    <tr>\n",
                     "      <th>2667519</th>\n",
                     "      <td>2</td>\n",
                     "      <td>1.0</td>\n",
                     "      <td>1.52</td>\n",
                     "      <td>1.0</td>\n",
                     "      <td>N</td>\n",
                     "      <td>263</td>\n",
                     "      <td>162</td>\n",
                     "      <td>2</td>\n",
                     "      <td>13.00</td>\n",
                     "      <td>0.0</td>\n",
                     "      <td>0.5</td>\n",
                     "      <td>0.00</td>\n",
                     "      <td>0.00</td>\n",
                     "      <td>0.3</td>\n",
                     "      <td>2.5</td>\n",
                     "      <td>0.0</td>\n",
                     "      <td>2022</td>\n",
                     "      <td>24</td>\n",
                     "      <td>13</td>\n",
                     "      <td>47</td>\n",
                     "    </tr>\n",
                     "    <tr>\n",
                     "      <th>523312</th>\n",
                     "      <td>2</td>\n",
                     "      <td>1.0</td>\n",
                     "      <td>0.63</td>\n",
                     "      <td>1.0</td>\n",
                     "      <td>N</td>\n",
                     "      <td>186</td>\n",
                     "      <td>234</td>\n",
                     "      <td>1</td>\n",
                     "      <td>5.50</td>\n",
                     "      <td>0.5</td>\n",
                     "      <td>0.5</td>\n",
                     "      <td>3.00</td>\n",
                     "      <td>0.00</td>\n",
                     "      <td>0.3</td>\n",
                     "      <td>2.5</td>\n",
                     "      <td>0.0</td>\n",
                     "      <td>2022</td>\n",
                     "      <td>5</td>\n",
                     "      <td>20</td>\n",
                     "      <td>57</td>\n",
                     "    </tr>\n",
                     "    <tr>\n",
                     "      <th>1508410</th>\n",
                     "      <td>1</td>\n",
                     "      <td>1.0</td>\n",
                     "      <td>1.70</td>\n",
                     "      <td>1.0</td>\n",
                     "      <td>N</td>\n",
                     "      <td>142</td>\n",
                     "      <td>141</td>\n",
                     "      <td>1</td>\n",
                     "      <td>10.00</td>\n",
                     "      <td>2.5</td>\n",
                     "      <td>0.5</td>\n",
                     "      <td>3.30</td>\n",
                     "      <td>0.00</td>\n",
                     "      <td>0.3</td>\n",
                     "      <td>2.5</td>\n",
                     "      <td>0.0</td>\n",
                     "      <td>2022</td>\n",
                     "      <td>14</td>\n",
                     "      <td>10</td>\n",
                     "      <td>35</td>\n",
                     "    </tr>\n",
                     "    <tr>\n",
                     "      <th>3277127</th>\n",
                     "      <td>2</td>\n",
                     "      <td>1.0</td>\n",
                     "      <td>2.00</td>\n",
                     "      <td>1.0</td>\n",
                     "      <td>N</td>\n",
                     "      <td>162</td>\n",
                     "      <td>186</td>\n",
                     "      <td>1</td>\n",
                     "      <td>9.00</td>\n",
                     "      <td>0.0</td>\n",
                     "      <td>0.5</td>\n",
                     "      <td>2.46</td>\n",
                     "      <td>0.00</td>\n",
                     "      <td>0.3</td>\n",
                     "      <td>2.5</td>\n",
                     "      <td>0.0</td>\n",
                     "      <td>2022</td>\n",
                     "      <td>30</td>\n",
                     "      <td>8</td>\n",
                     "      <td>45</td>\n",
                     "    </tr>\n",
                     "    <tr>\n",
                     "      <th>977674</th>\n",
                     "      <td>1</td>\n",
                     "      <td>1.0</td>\n",
                     "      <td>1.30</td>\n",
                     "      <td>1.0</td>\n",
                     "      <td>N</td>\n",
                     "      <td>186</td>\n",
                     "      <td>246</td>\n",
                     "      <td>1</td>\n",
                     "      <td>7.00</td>\n",
                     "      <td>3.0</td>\n",
                     "      <td>0.5</td>\n",
                     "      <td>0.00</td>\n",
                     "      <td>0.00</td>\n",
                     "      <td>0.3</td>\n",
                     "      <td>2.5</td>\n",
                     "      <td>0.0</td>\n",
                     "      <td>2022</td>\n",
                     "      <td>9</td>\n",
                     "      <td>21</td>\n",
                     "      <td>30</td>\n",
                     "    </tr>\n",
                     "    <tr>\n",
                     "      <th>...</th>\n",
                     "      <td>...</td>\n",
                     "      <td>...</td>\n",
                     "      <td>...</td>\n",
                     "      <td>...</td>\n",
                     "      <td>...</td>\n",
                     "      <td>...</td>\n",
                     "      <td>...</td>\n",
                     "      <td>...</td>\n",
                     "      <td>...</td>\n",
                     "      <td>...</td>\n",
                     "      <td>...</td>\n",
                     "      <td>...</td>\n",
                     "      <td>...</td>\n",
                     "      <td>...</td>\n",
                     "      <td>...</td>\n",
                     "      <td>...</td>\n",
                     "      <td>...</td>\n",
                     "      <td>...</td>\n",
                     "      <td>...</td>\n",
                     "      <td>...</td>\n",
                     "    </tr>\n",
                     "    <tr>\n",
                     "      <th>2356330</th>\n",
                     "      <td>1</td>\n",
                     "      <td>1.0</td>\n",
                     "      <td>3.20</td>\n",
                     "      <td>1.0</td>\n",
                     "      <td>N</td>\n",
                     "      <td>107</td>\n",
                     "      <td>231</td>\n",
                     "      <td>1</td>\n",
                     "      <td>15.00</td>\n",
                     "      <td>2.5</td>\n",
                     "      <td>0.5</td>\n",
                     "      <td>3.65</td>\n",
                     "      <td>0.00</td>\n",
                     "      <td>0.3</td>\n",
                     "      <td>2.5</td>\n",
                     "      <td>0.0</td>\n",
                     "      <td>2022</td>\n",
                     "      <td>21</td>\n",
                     "      <td>15</td>\n",
                     "      <td>21</td>\n",
                     "    </tr>\n",
                     "    <tr>\n",
                     "      <th>3511566</th>\n",
                     "      <td>2</td>\n",
                     "      <td>NaN</td>\n",
                     "      <td>2.31</td>\n",
                     "      <td>NaN</td>\n",
                     "      <td>None</td>\n",
                     "      <td>68</td>\n",
                     "      <td>144</td>\n",
                     "      <td>0</td>\n",
                     "      <td>13.52</td>\n",
                     "      <td>0.0</td>\n",
                     "      <td>0.5</td>\n",
                     "      <td>3.73</td>\n",
                     "      <td>0.00</td>\n",
                     "      <td>0.3</td>\n",
                     "      <td>NaN</td>\n",
                     "      <td>NaN</td>\n",
                     "      <td>2022</td>\n",
                     "      <td>12</td>\n",
                     "      <td>12</td>\n",
                     "      <td>27</td>\n",
                     "    </tr>\n",
                     "    <tr>\n",
                     "      <th>2229084</th>\n",
                     "      <td>2</td>\n",
                     "      <td>1.0</td>\n",
                     "      <td>2.08</td>\n",
                     "      <td>1.0</td>\n",
                     "      <td>N</td>\n",
                     "      <td>79</td>\n",
                     "      <td>158</td>\n",
                     "      <td>1</td>\n",
                     "      <td>12.00</td>\n",
                     "      <td>0.0</td>\n",
                     "      <td>0.5</td>\n",
                     "      <td>3.06</td>\n",
                     "      <td>0.00</td>\n",
                     "      <td>0.3</td>\n",
                     "      <td>2.5</td>\n",
                     "      <td>0.0</td>\n",
                     "      <td>2022</td>\n",
                     "      <td>20</td>\n",
                     "      <td>13</td>\n",
                     "      <td>52</td>\n",
                     "    </tr>\n",
                     "    <tr>\n",
                     "      <th>2768307</th>\n",
                     "      <td>2</td>\n",
                     "      <td>1.0</td>\n",
                     "      <td>16.69</td>\n",
                     "      <td>2.0</td>\n",
                     "      <td>N</td>\n",
                     "      <td>132</td>\n",
                     "      <td>230</td>\n",
                     "      <td>1</td>\n",
                     "      <td>52.00</td>\n",
                     "      <td>0.0</td>\n",
                     "      <td>0.5</td>\n",
                     "      <td>12.37</td>\n",
                     "      <td>6.55</td>\n",
                     "      <td>0.3</td>\n",
                     "      <td>2.5</td>\n",
                     "      <td>0.0</td>\n",
                     "      <td>2022</td>\n",
                     "      <td>25</td>\n",
                     "      <td>10</td>\n",
                     "      <td>57</td>\n",
                     "    </tr>\n",
                     "    <tr>\n",
                     "      <th>2219110</th>\n",
                     "      <td>2</td>\n",
                     "      <td>1.0</td>\n",
                     "      <td>0.26</td>\n",
                     "      <td>1.0</td>\n",
                     "      <td>N</td>\n",
                     "      <td>87</td>\n",
                     "      <td>209</td>\n",
                     "      <td>2</td>\n",
                     "      <td>3.00</td>\n",
                     "      <td>0.0</td>\n",
                     "      <td>0.5</td>\n",
                     "      <td>0.00</td>\n",
                     "      <td>0.00</td>\n",
                     "      <td>0.3</td>\n",
                     "      <td>2.5</td>\n",
                     "      <td>0.0</td>\n",
                     "      <td>2022</td>\n",
                     "      <td>20</td>\n",
                     "      <td>12</td>\n",
                     "      <td>57</td>\n",
                     "    </tr>\n",
                     "  </tbody>\n",
                     "</table>\n",
                     "<p>2870636 rows × 20 columns</p>\n",
                     "</div>"
                  ],
                  "text/plain": [
                     "         VendorID  passenger_count  trip_distance  RatecodeID   \n",
                     "2667519         2              1.0           1.52         1.0  \\\n",
                     "523312          2              1.0           0.63         1.0   \n",
                     "1508410         1              1.0           1.70         1.0   \n",
                     "3277127         2              1.0           2.00         1.0   \n",
                     "977674          1              1.0           1.30         1.0   \n",
                     "...           ...              ...            ...         ...   \n",
                     "2356330         1              1.0           3.20         1.0   \n",
                     "3511566         2              NaN           2.31         NaN   \n",
                     "2229084         2              1.0           2.08         1.0   \n",
                     "2768307         2              1.0          16.69         2.0   \n",
                     "2219110         2              1.0           0.26         1.0   \n",
                     "\n",
                     "        store_and_fwd_flag  PULocationID  DOLocationID  payment_type   \n",
                     "2667519                  N           263           162             2  \\\n",
                     "523312                   N           186           234             1   \n",
                     "1508410                  N           142           141             1   \n",
                     "3277127                  N           162           186             1   \n",
                     "977674                   N           186           246             1   \n",
                     "...                    ...           ...           ...           ...   \n",
                     "2356330                  N           107           231             1   \n",
                     "3511566               None            68           144             0   \n",
                     "2229084                  N            79           158             1   \n",
                     "2768307                  N           132           230             1   \n",
                     "2219110                  N            87           209             2   \n",
                     "\n",
                     "         fare_amount  extra  mta_tax  tip_amount  tolls_amount   \n",
                     "2667519        13.00    0.0      0.5        0.00          0.00  \\\n",
                     "523312          5.50    0.5      0.5        3.00          0.00   \n",
                     "1508410        10.00    2.5      0.5        3.30          0.00   \n",
                     "3277127         9.00    0.0      0.5        2.46          0.00   \n",
                     "977674          7.00    3.0      0.5        0.00          0.00   \n",
                     "...              ...    ...      ...         ...           ...   \n",
                     "2356330        15.00    2.5      0.5        3.65          0.00   \n",
                     "3511566        13.52    0.0      0.5        3.73          0.00   \n",
                     "2229084        12.00    0.0      0.5        3.06          0.00   \n",
                     "2768307        52.00    0.0      0.5       12.37          6.55   \n",
                     "2219110         3.00    0.0      0.5        0.00          0.00   \n",
                     "\n",
                     "         improvement_surcharge  congestion_surcharge  airport_fee   \n",
                     "2667519                    0.3                   2.5          0.0  \\\n",
                     "523312                     0.3                   2.5          0.0   \n",
                     "1508410                    0.3                   2.5          0.0   \n",
                     "3277127                    0.3                   2.5          0.0   \n",
                     "977674                     0.3                   2.5          0.0   \n",
                     "...                        ...                   ...          ...   \n",
                     "2356330                    0.3                   2.5          0.0   \n",
                     "3511566                    0.3                   NaN          NaN   \n",
                     "2229084                    0.3                   2.5          0.0   \n",
                     "2768307                    0.3                   2.5          0.0   \n",
                     "2219110                    0.3                   2.5          0.0   \n",
                     "\n",
                     "         pickup_year  pickup_day  pickup_hour  pickup_minute  \n",
                     "2667519         2022          24           13             47  \n",
                     "523312          2022           5           20             57  \n",
                     "1508410         2022          14           10             35  \n",
                     "3277127         2022          30            8             45  \n",
                     "977674          2022           9           21             30  \n",
                     "...              ...         ...          ...            ...  \n",
                     "2356330         2022          21           15             21  \n",
                     "3511566         2022          12           12             27  \n",
                     "2229084         2022          20           13             52  \n",
                     "2768307         2022          25           10             57  \n",
                     "2219110         2022          20           12             57  \n",
                     "\n",
                     "[2870636 rows x 20 columns]"
                  ]
               },
               "execution_count": 19,
               "metadata": {},
               "output_type": "execute_result"
            }
         ],
         "source": [
            "X_train"
         ]
      },
      {
         "cell_type": "code",
         "execution_count": 22,
         "metadata": {},
         "outputs": [
            {
               "name": "stdout",
               "output_type": "stream",
               "text": [
                  "Input train data shape:  (2870636, 20)\n",
                  "Input val data shape:  (717659, 20)\n",
                  "Input test data shape:  (3558124, 20) \n",
                  "\n",
                  "<class 'pandas.core.frame.DataFrame'> <class 'pandas.core.frame.DataFrame'> <class 'pandas.core.frame.DataFrame'>\n"
               ]
            }
         ],
         "source": [
            "reload(config)\n",
            "reload(data_utils)\n",
            "reload(preprocessing)\n",
            "X_train, X_val, X_test = preprocessing.preprocess_data(X_train, X_val, X_test)"
         ]
      },
      {
         "cell_type": "code",
         "execution_count": 35,
         "metadata": {},
         "outputs": [
            {
               "name": "stdout",
               "output_type": "stream",
               "text": [
                  "(2870636, 21)\n",
                  "(2870636,)\n"
               ]
            }
         ],
         "source": [
            "print(X_train.shape)\n",
            "print(y_train_total_amount.shape)"
         ]
      },
      {
         "cell_type": "markdown",
         "metadata": {},
         "source": [
            "## Models"
         ]
      },
      {
         "cell_type": "markdown",
         "metadata": {},
         "source": [
            "### Linear Regression"
         ]
      },
      {
         "cell_type": "code",
         "execution_count": 24,
         "metadata": {},
         "outputs": [
            {
               "name": "stdout",
               "output_type": "stream",
               "text": [
                  "MAE: 0.2535261553229834\n",
                  "MSE: 0.20132178319879648\n",
                  "RMSE: 0.44868896041556056\n",
                  "R2: 0.99941659228303\n",
                  "_________________________:\n",
                  "MAE: 0.24777295245524936\n",
                  "MSE: 0.20714434421448094\n",
                  "RMSE: 0.45513112859315713\n",
                  "R2: 0.9993694205969985\n"
               ]
            }
         ],
         "source": [
            "from sklearn.linear_model import LinearRegression\n",
            "from sklearn.metrics import mean_absolute_error, mean_squared_error, r2_score\n",
            "from src.save_model import save_total_trip_model,save_duration_trip_model\n",
            "import math\n",
            "\n",
            "# Create a linear regression model\n",
            "model = LinearRegression()\n",
            "\n",
            "# Fit the model\n",
            "model.fit(X_train, y_train_total_amount)\n",
            "\n",
            "save_total_trip_model(model)\n",
            "# Predict using the model\n",
            "\n",
            "y_pred_train = model.predict(X_train)\n",
            "print('MAE:', mean_absolute_error(y_train_total_amount, y_pred_train))\n",
            "print('MSE:', mean_squared_error(y_train_total_amount, y_pred_train))\n",
            "print('RMSE:', math.sqrt(mean_squared_error(y_train_total_amount, y_pred_train)))\n",
            "print('R2:', r2_score(y_train_total_amount, y_pred_train))\n",
            "print('_________________________:')\n",
            "\n",
            "y_pred_val = model.predict(X_val)\n",
            "print('MAE:', mean_absolute_error(y_val_total_amount, y_pred_val))\n",
            "print('MSE:', mean_squared_error(y_val_total_amount, y_pred_val))\n",
            "print('RMSE:', math.sqrt(mean_squared_error(y_val_total_amount, y_pred_val)))\n",
            "print('R2:', r2_score(y_val_total_amount, y_pred_val))"
         ]
      },
      {
         "cell_type": "code",
         "execution_count": 25,
         "metadata": {},
         "outputs": [
            {
               "name": "stdout",
               "output_type": "stream",
               "text": [
                  "(2870636, 20)\n",
                  "(2870636,)\n",
                  "MAE: 7.045961757853999\n",
                  "MSE: 2521.5455938436276\n",
                  "RMSE: 50.21499371545941\n",
                  "R2: 0.053617679444359356\n",
                  "_________________________:\n",
                  "MAE: 7.069343305157046\n",
                  "MSE: 2495.9096563230664\n",
                  "RMSE: 49.95907981861822\n",
                  "R2: 0.053848947783667556\n"
               ]
            }
         ],
         "source": [
            "# Create a linear regression model\n",
            "model_duration = LinearRegression()\n",
            "\n",
            "print(X_train.shape)\n",
            "print(y_train_duration_in_minutes.shape)\n",
            "# Fit the model\n",
            "model_duration.fit(X_train, y_train_duration_in_minutes)\n",
            "\n",
            "save_duration_trip_model(model_duration)\n",
            "# Predict using the model\n",
            "\n",
            "y_pred_train = model_duration.predict(X_train)\n",
            "print('MAE:', mean_absolute_error(y_train_duration_in_minutes, y_pred_train))\n",
            "print('MSE:', mean_squared_error(y_train_duration_in_minutes, y_pred_train))\n",
            "print('RMSE:', math.sqrt(mean_squared_error(y_train_duration_in_minutes, y_pred_train)))\n",
            "print('R2:', r2_score(y_train_duration_in_minutes, y_pred_train))\n",
            "print('_________________________:')\n",
            "\n",
            "y_pred_val = model_duration.predict(X_val)\n",
            "print('MAE:', mean_absolute_error(y_val_duration_in_minutes, y_pred_val))\n",
            "print('MSE:', mean_squared_error(y_val_duration_in_minutes, y_pred_val))\n",
            "print('RMSE:', math.sqrt(mean_squared_error(y_val_duration_in_minutes, y_pred_val)))\n",
            "print('R2:', r2_score(y_val_duration_in_minutes, y_pred_val))"
         ]
      },
      {
         "cell_type": "code",
         "execution_count": 83,
         "metadata": {},
         "outputs": [
            {
               "name": "stdout",
               "output_type": "stream",
               "text": [
                  "[16.37356417 12.24868574 16.93207089 ... 18.46046908 74.50766187\n",
                  "  6.4432041 ]\n"
               ]
            }
         ],
         "source": [
            "print(y_pred_train)"
         ]
      },
      {
         "cell_type": "markdown",
         "metadata": {},
         "source": [
            "## Testing more models"
         ]
      },
      {
         "cell_type": "code",
         "execution_count": 57,
         "metadata": {},
         "outputs": [],
         "source": [
            "from sklearn.tree import DecisionTreeRegressor\n",
            "from sklearn.ensemble import RandomForestRegressor, GradientBoostingRegressor\n",
            "from sklearn.metrics import mean_absolute_error, mean_squared_error, r2_score\n",
            "import math"
         ]
      },
      {
         "cell_type": "code",
         "execution_count": 20,
         "metadata": {},
         "outputs": [
            {
               "name": "stdout",
               "output_type": "stream",
               "text": [
                  "MAE: 0.5083001879611697\n",
                  "MSE: 1.157763100732136\n",
                  "RMSE: 1.0759940058997244\n",
                  "R2: 0.9962019191934198\n"
               ]
            }
         ],
         "source": [
            "tree = DecisionTreeRegressor(max_depth=10)\n",
            "tree.fit(X_train, y_train)\n",
            "\n",
            "# Evaluate the model\n",
            "y_pred = tree.predict(X_val)\n",
            "\n",
            "print('MAE:', mean_absolute_error(y_val, y_pred))\n",
            "print('MSE:', mean_squared_error(y_val, y_pred))\n",
            "print('RMSE:', math.sqrt(mean_squared_error(y_val, y_pred)))\n",
            "print('R2:', r2_score(y_val, y_pred))"
         ]
      },
      {
         "cell_type": "code",
         "execution_count": 22,
         "metadata": {},
         "outputs": [
            {
               "name": "stdout",
               "output_type": "stream",
               "text": [
                  "MAE: 0.5019838029988832\n",
                  "MSE: 0.8699139661260424\n",
                  "RMSE: 0.9326917851713086\n",
                  "R2: 0.9972920319812679\n"
               ]
            }
         ],
         "source": [
            "y_pred_train = tree.predict(X_train)\n",
            "\n",
            "print('MAE:', mean_absolute_error(y_train, y_pred_train))\n",
            "print('MSE:', mean_squared_error(y_train, y_pred_train))\n",
            "print('RMSE:', math.sqrt(mean_squared_error(y_train, y_pred_train)))\n",
            "print('R2:', r2_score(y_train, y_pred_train))"
         ]
      },
      {
         "cell_type": "code",
         "execution_count": 27,
         "metadata": {},
         "outputs": [],
         "source": [
            "rf_reg = RandomForestRegressor()\n",
            "rf_reg.fit(X_train, y_train)\n",
            "\n",
            "# Evaluate the model\n",
            "y_pred_train = rf_reg.predict(X_train)\n",
            "\n",
            "print('MAE:', mean_absolute_error(y_train, y_pred_train))\n",
            "print('MSE:', mean_squared_error(y_train, y_pred_train))\n",
            "print('RMSE:', math.sqrt(mean_squared_error(y_train, y_pred_train)))\n",
            "print('R2:', r2_score(y_train, y_pred_train))"
         ]
      },
      {
         "cell_type": "code",
         "execution_count": 25,
         "metadata": {},
         "outputs": [
            {
               "ename": "SyntaxError",
               "evalue": "invalid syntax. Perhaps you forgot a comma? (1243355382.py, line 2)",
               "output_type": "error",
               "traceback": [
                  "\u001b[1;36m  Cell \u001b[1;32mIn[25], line 2\u001b[1;36m\u001b[0m\n\u001b[1;33m    rf_reg.fit(X_train, y _train)\u001b[0m\n\u001b[1;37m                        ^\u001b[0m\n\u001b[1;31mSyntaxError\u001b[0m\u001b[1;31m:\u001b[0m invalid syntax. Perhaps you forgot a comma?\n"
               ]
            }
         ],
         "source": [
            "rf_reg = RandomForestRegressor()\n",
            "rf_reg.fit(X_train, y_train)\n",
            "\n",
            "# Evaluate the model\n",
            "y_pred = rf_reg.predict(X_val)\n",
            "\n",
            "print('MAE:', mean_absolute_error(y_val, y_pred))\n",
            "print('MSE:', mean_squared_error(y_val, y_pred))\n",
            "print('RMSE:', math.sqrt(mean_squared_error(y_val, y_pred)))\n",
            "print('R2:', r2_score(y_val, y_pred))"
         ]
      },
      {
         "cell_type": "code",
         "execution_count": 8,
         "metadata": {},
         "outputs": [
            {
               "name": "stdout",
               "output_type": "stream",
               "text": [
                  "Mean Squared Error: 0.31\n",
                  "R-squared: 1.00\n"
               ]
            }
         ],
         "source": [
            "from sklearn.ensemble import RandomForestRegressor\n",
            "#Random Forest Regressor \n",
            "model = RandomForestRegressor(n_estimators=10)  \n",
            "model.fit(X_train, y_train)\n",
            "y_pred = model.predict(X_val)\n",
            "# Metrics\n",
            "# Calculate MSE\n",
            "mse = mean_squared_error(y_val, y_pred)\n",
            "print(f\"Mean Squared Error: {mse:.2f}\")\n",
            "\n",
            "# Calculate R-squared\n",
            "r2 = r2_score(y_val, y_pred)\n",
            "print(f\"R-squared: {r2:.2f}\")"
         ]
      },
      {
         "cell_type": "code",
         "execution_count": 12,
         "metadata": {},
         "outputs": [
            {
               "name": "stdout",
               "output_type": "stream",
               "text": [
                  "Mean Squared Error: 44281.55876465683\n",
                  "R-squared: 0.06\n"
               ]
            },
            {
               "ename": "ValueError",
               "evalue": "Found input variables with inconsistent numbers of samples: [684763, 3425676]",
               "output_type": "error",
               "traceback": [
                  "\u001b[1;31m---------------------------------------------------------------------------\u001b[0m",
                  "\u001b[1;31mValueError\u001b[0m                                Traceback (most recent call last)",
                  "Cell \u001b[1;32mIn[12], line 19\u001b[0m\n\u001b[0;32m     17\u001b[0m r2 \u001b[38;5;241m=\u001b[39m r2_score(y_test, y_pred)\n\u001b[0;32m     18\u001b[0m \u001b[38;5;28mprint\u001b[39m(\u001b[38;5;124mf\u001b[39m\u001b[38;5;124m\"\u001b[39m\u001b[38;5;124mR-squared: \u001b[39m\u001b[38;5;132;01m{\u001b[39;00mr2\u001b[38;5;132;01m:\u001b[39;00m\u001b[38;5;124m.2f\u001b[39m\u001b[38;5;132;01m}\u001b[39;00m\u001b[38;5;124m\"\u001b[39m)\n\u001b[1;32m---> 19\u001b[0m \u001b[38;5;28mprint\u001b[39m(\u001b[38;5;124m'\u001b[39m\u001b[38;5;124mMAE:\u001b[39m\u001b[38;5;124m'\u001b[39m, \u001b[43mmean_absolute_error\u001b[49m\u001b[43m(\u001b[49m\u001b[43my_val\u001b[49m\u001b[43m,\u001b[49m\u001b[43m \u001b[49m\u001b[43my_pred\u001b[49m\u001b[43m)\u001b[49m)\n\u001b[0;32m     20\u001b[0m \u001b[38;5;28mprint\u001b[39m(\u001b[38;5;124m'\u001b[39m\u001b[38;5;124mRMSE:\u001b[39m\u001b[38;5;124m'\u001b[39m, math\u001b[38;5;241m.\u001b[39msqrt(mean_squared_error(y_val, y_pred)))\n",
                  "File \u001b[1;32mc:\\Users\\jaime\\anaconda3\\envs\\scraping1\\lib\\site-packages\\sklearn\\utils\\_param_validation.py:213\u001b[0m, in \u001b[0;36mvalidate_params.<locals>.decorator.<locals>.wrapper\u001b[1;34m(*args, **kwargs)\u001b[0m\n\u001b[0;32m    207\u001b[0m \u001b[38;5;28;01mtry\u001b[39;00m:\n\u001b[0;32m    208\u001b[0m     \u001b[38;5;28;01mwith\u001b[39;00m config_context(\n\u001b[0;32m    209\u001b[0m         skip_parameter_validation\u001b[38;5;241m=\u001b[39m(\n\u001b[0;32m    210\u001b[0m             prefer_skip_nested_validation \u001b[38;5;129;01mor\u001b[39;00m global_skip_validation\n\u001b[0;32m    211\u001b[0m         )\n\u001b[0;32m    212\u001b[0m     ):\n\u001b[1;32m--> 213\u001b[0m         \u001b[38;5;28;01mreturn\u001b[39;00m func(\u001b[38;5;241m*\u001b[39margs, \u001b[38;5;241m*\u001b[39m\u001b[38;5;241m*\u001b[39mkwargs)\n\u001b[0;32m    214\u001b[0m \u001b[38;5;28;01mexcept\u001b[39;00m InvalidParameterError \u001b[38;5;28;01mas\u001b[39;00m e:\n\u001b[0;32m    215\u001b[0m     \u001b[38;5;66;03m# When the function is just a wrapper around an estimator, we allow\u001b[39;00m\n\u001b[0;32m    216\u001b[0m     \u001b[38;5;66;03m# the function to delegate validation to the estimator, but we replace\u001b[39;00m\n\u001b[0;32m    217\u001b[0m     \u001b[38;5;66;03m# the name of the estimator by the name of the function in the error\u001b[39;00m\n\u001b[0;32m    218\u001b[0m     \u001b[38;5;66;03m# message to avoid confusion.\u001b[39;00m\n\u001b[0;32m    219\u001b[0m     msg \u001b[38;5;241m=\u001b[39m re\u001b[38;5;241m.\u001b[39msub(\n\u001b[0;32m    220\u001b[0m         \u001b[38;5;124mr\u001b[39m\u001b[38;5;124m\"\u001b[39m\u001b[38;5;124mparameter of \u001b[39m\u001b[38;5;124m\\\u001b[39m\u001b[38;5;124mw+ must be\u001b[39m\u001b[38;5;124m\"\u001b[39m,\n\u001b[0;32m    221\u001b[0m         \u001b[38;5;124mf\u001b[39m\u001b[38;5;124m\"\u001b[39m\u001b[38;5;124mparameter of \u001b[39m\u001b[38;5;132;01m{\u001b[39;00mfunc\u001b[38;5;241m.\u001b[39m\u001b[38;5;18m__qualname__\u001b[39m\u001b[38;5;132;01m}\u001b[39;00m\u001b[38;5;124m must be\u001b[39m\u001b[38;5;124m\"\u001b[39m,\n\u001b[0;32m    222\u001b[0m         \u001b[38;5;28mstr\u001b[39m(e),\n\u001b[0;32m    223\u001b[0m     )\n",
                  "File \u001b[1;32mc:\\Users\\jaime\\anaconda3\\envs\\scraping1\\lib\\site-packages\\sklearn\\metrics\\_regression.py:207\u001b[0m, in \u001b[0;36mmean_absolute_error\u001b[1;34m(y_true, y_pred, sample_weight, multioutput)\u001b[0m\n\u001b[0;32m    143\u001b[0m \u001b[38;5;129m@validate_params\u001b[39m(\n\u001b[0;32m    144\u001b[0m     {\n\u001b[0;32m    145\u001b[0m         \u001b[38;5;124m\"\u001b[39m\u001b[38;5;124my_true\u001b[39m\u001b[38;5;124m\"\u001b[39m: [\u001b[38;5;124m\"\u001b[39m\u001b[38;5;124marray-like\u001b[39m\u001b[38;5;124m\"\u001b[39m],\n\u001b[1;32m   (...)\u001b[0m\n\u001b[0;32m    153\u001b[0m     y_true, y_pred, \u001b[38;5;241m*\u001b[39m, sample_weight\u001b[38;5;241m=\u001b[39m\u001b[38;5;28;01mNone\u001b[39;00m, multioutput\u001b[38;5;241m=\u001b[39m\u001b[38;5;124m\"\u001b[39m\u001b[38;5;124muniform_average\u001b[39m\u001b[38;5;124m\"\u001b[39m\n\u001b[0;32m    154\u001b[0m ):\n\u001b[0;32m    155\u001b[0m \u001b[38;5;250m    \u001b[39m\u001b[38;5;124;03m\"\"\"Mean absolute error regression loss.\u001b[39;00m\n\u001b[0;32m    156\u001b[0m \n\u001b[0;32m    157\u001b[0m \u001b[38;5;124;03m    Read more in the :ref:`User Guide <mean_absolute_error>`.\u001b[39;00m\n\u001b[1;32m   (...)\u001b[0m\n\u001b[0;32m    205\u001b[0m \u001b[38;5;124;03m    0.85...\u001b[39;00m\n\u001b[0;32m    206\u001b[0m \u001b[38;5;124;03m    \"\"\"\u001b[39;00m\n\u001b[1;32m--> 207\u001b[0m     y_type, y_true, y_pred, multioutput \u001b[38;5;241m=\u001b[39m \u001b[43m_check_reg_targets\u001b[49m\u001b[43m(\u001b[49m\n\u001b[0;32m    208\u001b[0m \u001b[43m        \u001b[49m\u001b[43my_true\u001b[49m\u001b[43m,\u001b[49m\u001b[43m \u001b[49m\u001b[43my_pred\u001b[49m\u001b[43m,\u001b[49m\u001b[43m \u001b[49m\u001b[43mmultioutput\u001b[49m\n\u001b[0;32m    209\u001b[0m \u001b[43m    \u001b[49m\u001b[43m)\u001b[49m\n\u001b[0;32m    210\u001b[0m     check_consistent_length(y_true, y_pred, sample_weight)\n\u001b[0;32m    211\u001b[0m     output_errors \u001b[38;5;241m=\u001b[39m np\u001b[38;5;241m.\u001b[39maverage(np\u001b[38;5;241m.\u001b[39mabs(y_pred \u001b[38;5;241m-\u001b[39m y_true), weights\u001b[38;5;241m=\u001b[39msample_weight, axis\u001b[38;5;241m=\u001b[39m\u001b[38;5;241m0\u001b[39m)\n",
                  "File \u001b[1;32mc:\\Users\\jaime\\anaconda3\\envs\\scraping1\\lib\\site-packages\\sklearn\\metrics\\_regression.py:102\u001b[0m, in \u001b[0;36m_check_reg_targets\u001b[1;34m(y_true, y_pred, multioutput, dtype)\u001b[0m\n\u001b[0;32m     68\u001b[0m \u001b[38;5;28;01mdef\u001b[39;00m \u001b[38;5;21m_check_reg_targets\u001b[39m(y_true, y_pred, multioutput, dtype\u001b[38;5;241m=\u001b[39m\u001b[38;5;124m\"\u001b[39m\u001b[38;5;124mnumeric\u001b[39m\u001b[38;5;124m\"\u001b[39m):\n\u001b[0;32m     69\u001b[0m \u001b[38;5;250m    \u001b[39m\u001b[38;5;124;03m\"\"\"Check that y_true and y_pred belong to the same regression task.\u001b[39;00m\n\u001b[0;32m     70\u001b[0m \n\u001b[0;32m     71\u001b[0m \u001b[38;5;124;03m    Parameters\u001b[39;00m\n\u001b[1;32m   (...)\u001b[0m\n\u001b[0;32m    100\u001b[0m \u001b[38;5;124;03m        correct keyword.\u001b[39;00m\n\u001b[0;32m    101\u001b[0m \u001b[38;5;124;03m    \"\"\"\u001b[39;00m\n\u001b[1;32m--> 102\u001b[0m     \u001b[43mcheck_consistent_length\u001b[49m\u001b[43m(\u001b[49m\u001b[43my_true\u001b[49m\u001b[43m,\u001b[49m\u001b[43m \u001b[49m\u001b[43my_pred\u001b[49m\u001b[43m)\u001b[49m\n\u001b[0;32m    103\u001b[0m     y_true \u001b[38;5;241m=\u001b[39m check_array(y_true, ensure_2d\u001b[38;5;241m=\u001b[39m\u001b[38;5;28;01mFalse\u001b[39;00m, dtype\u001b[38;5;241m=\u001b[39mdtype)\n\u001b[0;32m    104\u001b[0m     y_pred \u001b[38;5;241m=\u001b[39m check_array(y_pred, ensure_2d\u001b[38;5;241m=\u001b[39m\u001b[38;5;28;01mFalse\u001b[39;00m, dtype\u001b[38;5;241m=\u001b[39mdtype)\n",
                  "File \u001b[1;32mc:\\Users\\jaime\\anaconda3\\envs\\scraping1\\lib\\site-packages\\sklearn\\utils\\validation.py:457\u001b[0m, in \u001b[0;36mcheck_consistent_length\u001b[1;34m(*arrays)\u001b[0m\n\u001b[0;32m    455\u001b[0m uniques \u001b[38;5;241m=\u001b[39m np\u001b[38;5;241m.\u001b[39munique(lengths)\n\u001b[0;32m    456\u001b[0m \u001b[38;5;28;01mif\u001b[39;00m \u001b[38;5;28mlen\u001b[39m(uniques) \u001b[38;5;241m>\u001b[39m \u001b[38;5;241m1\u001b[39m:\n\u001b[1;32m--> 457\u001b[0m     \u001b[38;5;28;01mraise\u001b[39;00m \u001b[38;5;167;01mValueError\u001b[39;00m(\n\u001b[0;32m    458\u001b[0m         \u001b[38;5;124m\"\u001b[39m\u001b[38;5;124mFound input variables with inconsistent numbers of samples: \u001b[39m\u001b[38;5;132;01m%r\u001b[39;00m\u001b[38;5;124m\"\u001b[39m\n\u001b[0;32m    459\u001b[0m         \u001b[38;5;241m%\u001b[39m [\u001b[38;5;28mint\u001b[39m(l) \u001b[38;5;28;01mfor\u001b[39;00m l \u001b[38;5;129;01min\u001b[39;00m lengths]\n\u001b[0;32m    460\u001b[0m     )\n",
                  "\u001b[1;31mValueError\u001b[0m: Found input variables with inconsistent numbers of samples: [684763, 3425676]"
               ]
            }
         ],
         "source": [
            "import xgboost as xgb\n",
            "from sklearn.datasets import make_regression\n",
            "#XGBRegressor\n",
            "model = xgb.XGBRegressor(objective ='reg:squarederror', n_estimators=10, seed=123)\n",
            "\n",
            "# Fit the model\n",
            "model.fit(X_train, y_train)\n",
            "\n",
            "# Predicting the Test set results\n",
            "y_pred = model.predict(X_test)\n",
            "\n",
            "# Evaluate the model\n",
            "mse = mean_squared_error(y_test, y_pred)\n",
            "print(\"Mean Squared Error:\", mse)\n",
            "\n",
            "# Calculate R-squared\n",
            "r2 = r2_score(y_test, y_pred)\n",
            "print(f\"R-squared: {r2:.2f}\")\n",
            "print('MAE:', mean_absolute_error(y_val, y_pred))\n",
            "print('RMSE:', math.sqrt(mean_squared_error(y_val, y_pred)))"
         ]
      },
      {
         "cell_type": "code",
         "execution_count": 16,
         "metadata": {},
         "outputs": [
            {
               "ename": "ValueError",
               "evalue": "Found input variables with inconsistent numbers of samples: [3425676, 684763]",
               "output_type": "error",
               "traceback": [
                  "\u001b[1;31m---------------------------------------------------------------------------\u001b[0m",
                  "\u001b[1;31mValueError\u001b[0m                                Traceback (most recent call last)",
                  "Cell \u001b[1;32mIn[16], line 10\u001b[0m\n\u001b[0;32m      7\u001b[0m cv \u001b[38;5;241m=\u001b[39m KFold(n_splits\u001b[38;5;241m=\u001b[39m\u001b[38;5;241m10\u001b[39m, shuffle\u001b[38;5;241m=\u001b[39m\u001b[38;5;28;01mTrue\u001b[39;00m)\n\u001b[0;32m      9\u001b[0m \u001b[38;5;66;03m# Evaluate the model using the cross-validation procedure\u001b[39;00m\n\u001b[1;32m---> 10\u001b[0m scores \u001b[38;5;241m=\u001b[39m \u001b[43mcross_val_score\u001b[49m\u001b[43m(\u001b[49m\u001b[43mmodel\u001b[49m\u001b[43m,\u001b[49m\u001b[43m \u001b[49m\u001b[43mX\u001b[49m\u001b[43m,\u001b[49m\u001b[43m \u001b[49m\u001b[43my\u001b[49m\u001b[43m,\u001b[49m\u001b[43m \u001b[49m\u001b[43mscoring\u001b[49m\u001b[38;5;241;43m=\u001b[39;49m\u001b[38;5;124;43m'\u001b[39;49m\u001b[38;5;124;43mneg_mean_squared_error\u001b[39;49m\u001b[38;5;124;43m'\u001b[39;49m\u001b[43m,\u001b[49m\u001b[43m \u001b[49m\u001b[43mcv\u001b[49m\u001b[38;5;241;43m=\u001b[39;49m\u001b[43mcv\u001b[49m\u001b[43m)\u001b[49m\n\u001b[0;32m     12\u001b[0m \u001b[38;5;66;03m# The scores are negative, which is how scikit-learn shows them for MSE (want to maximize negative MSE)\u001b[39;00m\n\u001b[0;32m     13\u001b[0m mse_scores \u001b[38;5;241m=\u001b[39m \u001b[38;5;241m-\u001b[39mscores\n",
                  "File \u001b[1;32mc:\\Users\\jaime\\anaconda3\\envs\\scraping1\\lib\\site-packages\\sklearn\\utils\\_param_validation.py:213\u001b[0m, in \u001b[0;36mvalidate_params.<locals>.decorator.<locals>.wrapper\u001b[1;34m(*args, **kwargs)\u001b[0m\n\u001b[0;32m    207\u001b[0m \u001b[38;5;28;01mtry\u001b[39;00m:\n\u001b[0;32m    208\u001b[0m     \u001b[38;5;28;01mwith\u001b[39;00m config_context(\n\u001b[0;32m    209\u001b[0m         skip_parameter_validation\u001b[38;5;241m=\u001b[39m(\n\u001b[0;32m    210\u001b[0m             prefer_skip_nested_validation \u001b[38;5;129;01mor\u001b[39;00m global_skip_validation\n\u001b[0;32m    211\u001b[0m         )\n\u001b[0;32m    212\u001b[0m     ):\n\u001b[1;32m--> 213\u001b[0m         \u001b[38;5;28;01mreturn\u001b[39;00m func(\u001b[38;5;241m*\u001b[39margs, \u001b[38;5;241m*\u001b[39m\u001b[38;5;241m*\u001b[39mkwargs)\n\u001b[0;32m    214\u001b[0m \u001b[38;5;28;01mexcept\u001b[39;00m InvalidParameterError \u001b[38;5;28;01mas\u001b[39;00m e:\n\u001b[0;32m    215\u001b[0m     \u001b[38;5;66;03m# When the function is just a wrapper around an estimator, we allow\u001b[39;00m\n\u001b[0;32m    216\u001b[0m     \u001b[38;5;66;03m# the function to delegate validation to the estimator, but we replace\u001b[39;00m\n\u001b[0;32m    217\u001b[0m     \u001b[38;5;66;03m# the name of the estimator by the name of the function in the error\u001b[39;00m\n\u001b[0;32m    218\u001b[0m     \u001b[38;5;66;03m# message to avoid confusion.\u001b[39;00m\n\u001b[0;32m    219\u001b[0m     msg \u001b[38;5;241m=\u001b[39m re\u001b[38;5;241m.\u001b[39msub(\n\u001b[0;32m    220\u001b[0m         \u001b[38;5;124mr\u001b[39m\u001b[38;5;124m\"\u001b[39m\u001b[38;5;124mparameter of \u001b[39m\u001b[38;5;124m\\\u001b[39m\u001b[38;5;124mw+ must be\u001b[39m\u001b[38;5;124m\"\u001b[39m,\n\u001b[0;32m    221\u001b[0m         \u001b[38;5;124mf\u001b[39m\u001b[38;5;124m\"\u001b[39m\u001b[38;5;124mparameter of \u001b[39m\u001b[38;5;132;01m{\u001b[39;00mfunc\u001b[38;5;241m.\u001b[39m\u001b[38;5;18m__qualname__\u001b[39m\u001b[38;5;132;01m}\u001b[39;00m\u001b[38;5;124m must be\u001b[39m\u001b[38;5;124m\"\u001b[39m,\n\u001b[0;32m    222\u001b[0m         \u001b[38;5;28mstr\u001b[39m(e),\n\u001b[0;32m    223\u001b[0m     )\n",
                  "File \u001b[1;32mc:\\Users\\jaime\\anaconda3\\envs\\scraping1\\lib\\site-packages\\sklearn\\model_selection\\_validation.py:719\u001b[0m, in \u001b[0;36mcross_val_score\u001b[1;34m(estimator, X, y, groups, scoring, cv, n_jobs, verbose, fit_params, params, pre_dispatch, error_score)\u001b[0m\n\u001b[0;32m    716\u001b[0m \u001b[38;5;66;03m# To ensure multimetric format is not supported\u001b[39;00m\n\u001b[0;32m    717\u001b[0m scorer \u001b[38;5;241m=\u001b[39m check_scoring(estimator, scoring\u001b[38;5;241m=\u001b[39mscoring)\n\u001b[1;32m--> 719\u001b[0m cv_results \u001b[38;5;241m=\u001b[39m \u001b[43mcross_validate\u001b[49m\u001b[43m(\u001b[49m\n\u001b[0;32m    720\u001b[0m \u001b[43m    \u001b[49m\u001b[43mestimator\u001b[49m\u001b[38;5;241;43m=\u001b[39;49m\u001b[43mestimator\u001b[49m\u001b[43m,\u001b[49m\n\u001b[0;32m    721\u001b[0m \u001b[43m    \u001b[49m\u001b[43mX\u001b[49m\u001b[38;5;241;43m=\u001b[39;49m\u001b[43mX\u001b[49m\u001b[43m,\u001b[49m\n\u001b[0;32m    722\u001b[0m \u001b[43m    \u001b[49m\u001b[43my\u001b[49m\u001b[38;5;241;43m=\u001b[39;49m\u001b[43my\u001b[49m\u001b[43m,\u001b[49m\n\u001b[0;32m    723\u001b[0m \u001b[43m    \u001b[49m\u001b[43mgroups\u001b[49m\u001b[38;5;241;43m=\u001b[39;49m\u001b[43mgroups\u001b[49m\u001b[43m,\u001b[49m\n\u001b[0;32m    724\u001b[0m \u001b[43m    \u001b[49m\u001b[43mscoring\u001b[49m\u001b[38;5;241;43m=\u001b[39;49m\u001b[43m{\u001b[49m\u001b[38;5;124;43m\"\u001b[39;49m\u001b[38;5;124;43mscore\u001b[39;49m\u001b[38;5;124;43m\"\u001b[39;49m\u001b[43m:\u001b[49m\u001b[43m \u001b[49m\u001b[43mscorer\u001b[49m\u001b[43m}\u001b[49m\u001b[43m,\u001b[49m\n\u001b[0;32m    725\u001b[0m \u001b[43m    \u001b[49m\u001b[43mcv\u001b[49m\u001b[38;5;241;43m=\u001b[39;49m\u001b[43mcv\u001b[49m\u001b[43m,\u001b[49m\n\u001b[0;32m    726\u001b[0m \u001b[43m    \u001b[49m\u001b[43mn_jobs\u001b[49m\u001b[38;5;241;43m=\u001b[39;49m\u001b[43mn_jobs\u001b[49m\u001b[43m,\u001b[49m\n\u001b[0;32m    727\u001b[0m \u001b[43m    \u001b[49m\u001b[43mverbose\u001b[49m\u001b[38;5;241;43m=\u001b[39;49m\u001b[43mverbose\u001b[49m\u001b[43m,\u001b[49m\n\u001b[0;32m    728\u001b[0m \u001b[43m    \u001b[49m\u001b[43mfit_params\u001b[49m\u001b[38;5;241;43m=\u001b[39;49m\u001b[43mfit_params\u001b[49m\u001b[43m,\u001b[49m\n\u001b[0;32m    729\u001b[0m \u001b[43m    \u001b[49m\u001b[43mparams\u001b[49m\u001b[38;5;241;43m=\u001b[39;49m\u001b[43mparams\u001b[49m\u001b[43m,\u001b[49m\n\u001b[0;32m    730\u001b[0m \u001b[43m    \u001b[49m\u001b[43mpre_dispatch\u001b[49m\u001b[38;5;241;43m=\u001b[39;49m\u001b[43mpre_dispatch\u001b[49m\u001b[43m,\u001b[49m\n\u001b[0;32m    731\u001b[0m \u001b[43m    \u001b[49m\u001b[43merror_score\u001b[49m\u001b[38;5;241;43m=\u001b[39;49m\u001b[43merror_score\u001b[49m\u001b[43m,\u001b[49m\n\u001b[0;32m    732\u001b[0m \u001b[43m\u001b[49m\u001b[43m)\u001b[49m\n\u001b[0;32m    733\u001b[0m \u001b[38;5;28;01mreturn\u001b[39;00m cv_results[\u001b[38;5;124m\"\u001b[39m\u001b[38;5;124mtest_score\u001b[39m\u001b[38;5;124m\"\u001b[39m]\n",
                  "File \u001b[1;32mc:\\Users\\jaime\\anaconda3\\envs\\scraping1\\lib\\site-packages\\sklearn\\utils\\_param_validation.py:213\u001b[0m, in \u001b[0;36mvalidate_params.<locals>.decorator.<locals>.wrapper\u001b[1;34m(*args, **kwargs)\u001b[0m\n\u001b[0;32m    207\u001b[0m \u001b[38;5;28;01mtry\u001b[39;00m:\n\u001b[0;32m    208\u001b[0m     \u001b[38;5;28;01mwith\u001b[39;00m config_context(\n\u001b[0;32m    209\u001b[0m         skip_parameter_validation\u001b[38;5;241m=\u001b[39m(\n\u001b[0;32m    210\u001b[0m             prefer_skip_nested_validation \u001b[38;5;129;01mor\u001b[39;00m global_skip_validation\n\u001b[0;32m    211\u001b[0m         )\n\u001b[0;32m    212\u001b[0m     ):\n\u001b[1;32m--> 213\u001b[0m         \u001b[38;5;28;01mreturn\u001b[39;00m func(\u001b[38;5;241m*\u001b[39margs, \u001b[38;5;241m*\u001b[39m\u001b[38;5;241m*\u001b[39mkwargs)\n\u001b[0;32m    214\u001b[0m \u001b[38;5;28;01mexcept\u001b[39;00m InvalidParameterError \u001b[38;5;28;01mas\u001b[39;00m e:\n\u001b[0;32m    215\u001b[0m     \u001b[38;5;66;03m# When the function is just a wrapper around an estimator, we allow\u001b[39;00m\n\u001b[0;32m    216\u001b[0m     \u001b[38;5;66;03m# the function to delegate validation to the estimator, but we replace\u001b[39;00m\n\u001b[0;32m    217\u001b[0m     \u001b[38;5;66;03m# the name of the estimator by the name of the function in the error\u001b[39;00m\n\u001b[0;32m    218\u001b[0m     \u001b[38;5;66;03m# message to avoid confusion.\u001b[39;00m\n\u001b[0;32m    219\u001b[0m     msg \u001b[38;5;241m=\u001b[39m re\u001b[38;5;241m.\u001b[39msub(\n\u001b[0;32m    220\u001b[0m         \u001b[38;5;124mr\u001b[39m\u001b[38;5;124m\"\u001b[39m\u001b[38;5;124mparameter of \u001b[39m\u001b[38;5;124m\\\u001b[39m\u001b[38;5;124mw+ must be\u001b[39m\u001b[38;5;124m\"\u001b[39m,\n\u001b[0;32m    221\u001b[0m         \u001b[38;5;124mf\u001b[39m\u001b[38;5;124m\"\u001b[39m\u001b[38;5;124mparameter of \u001b[39m\u001b[38;5;132;01m{\u001b[39;00mfunc\u001b[38;5;241m.\u001b[39m\u001b[38;5;18m__qualname__\u001b[39m\u001b[38;5;132;01m}\u001b[39;00m\u001b[38;5;124m must be\u001b[39m\u001b[38;5;124m\"\u001b[39m,\n\u001b[0;32m    222\u001b[0m         \u001b[38;5;28mstr\u001b[39m(e),\n\u001b[0;32m    223\u001b[0m     )\n",
                  "File \u001b[1;32mc:\\Users\\jaime\\anaconda3\\envs\\scraping1\\lib\\site-packages\\sklearn\\model_selection\\_validation.py:351\u001b[0m, in \u001b[0;36mcross_validate\u001b[1;34m(estimator, X, y, groups, scoring, cv, n_jobs, verbose, fit_params, params, pre_dispatch, return_train_score, return_estimator, return_indices, error_score)\u001b[0m\n\u001b[0;32m    140\u001b[0m \u001b[38;5;250m\u001b[39m\u001b[38;5;124;03m\"\"\"Evaluate metric(s) by cross-validation and also record fit/score times.\u001b[39;00m\n\u001b[0;32m    141\u001b[0m \n\u001b[0;32m    142\u001b[0m \u001b[38;5;124;03mRead more in the :ref:`User Guide <multimetric_cross_validation>`.\u001b[39;00m\n\u001b[1;32m   (...)\u001b[0m\n\u001b[0;32m    347\u001b[0m \u001b[38;5;124;03m[0.28009951 0.3908844  0.22784907]\u001b[39;00m\n\u001b[0;32m    348\u001b[0m \u001b[38;5;124;03m\"\"\"\u001b[39;00m\n\u001b[0;32m    349\u001b[0m params \u001b[38;5;241m=\u001b[39m _check_params_groups_deprecation(fit_params, params, groups)\n\u001b[1;32m--> 351\u001b[0m X, y \u001b[38;5;241m=\u001b[39m \u001b[43mindexable\u001b[49m\u001b[43m(\u001b[49m\u001b[43mX\u001b[49m\u001b[43m,\u001b[49m\u001b[43m \u001b[49m\u001b[43my\u001b[49m\u001b[43m)\u001b[49m\n\u001b[0;32m    353\u001b[0m cv \u001b[38;5;241m=\u001b[39m check_cv(cv, y, classifier\u001b[38;5;241m=\u001b[39mis_classifier(estimator))\n\u001b[0;32m    355\u001b[0m \u001b[38;5;28;01mif\u001b[39;00m \u001b[38;5;28mcallable\u001b[39m(scoring):\n",
                  "File \u001b[1;32mc:\\Users\\jaime\\anaconda3\\envs\\scraping1\\lib\\site-packages\\sklearn\\utils\\validation.py:514\u001b[0m, in \u001b[0;36mindexable\u001b[1;34m(*iterables)\u001b[0m\n\u001b[0;32m    484\u001b[0m \u001b[38;5;250m\u001b[39m\u001b[38;5;124;03m\"\"\"Make arrays indexable for cross-validation.\u001b[39;00m\n\u001b[0;32m    485\u001b[0m \n\u001b[0;32m    486\u001b[0m \u001b[38;5;124;03mChecks consistent length, passes through None, and ensures that everything\u001b[39;00m\n\u001b[1;32m   (...)\u001b[0m\n\u001b[0;32m    510\u001b[0m \u001b[38;5;124;03m[[1, 2, 3], array([2, 3, 4]), None, <3x1 sparse matrix ...>]\u001b[39;00m\n\u001b[0;32m    511\u001b[0m \u001b[38;5;124;03m\"\"\"\u001b[39;00m\n\u001b[0;32m    513\u001b[0m result \u001b[38;5;241m=\u001b[39m [_make_indexable(X) \u001b[38;5;28;01mfor\u001b[39;00m X \u001b[38;5;129;01min\u001b[39;00m iterables]\n\u001b[1;32m--> 514\u001b[0m \u001b[43mcheck_consistent_length\u001b[49m\u001b[43m(\u001b[49m\u001b[38;5;241;43m*\u001b[39;49m\u001b[43mresult\u001b[49m\u001b[43m)\u001b[49m\n\u001b[0;32m    515\u001b[0m \u001b[38;5;28;01mreturn\u001b[39;00m result\n",
                  "File \u001b[1;32mc:\\Users\\jaime\\anaconda3\\envs\\scraping1\\lib\\site-packages\\sklearn\\utils\\validation.py:457\u001b[0m, in \u001b[0;36mcheck_consistent_length\u001b[1;34m(*arrays)\u001b[0m\n\u001b[0;32m    455\u001b[0m uniques \u001b[38;5;241m=\u001b[39m np\u001b[38;5;241m.\u001b[39munique(lengths)\n\u001b[0;32m    456\u001b[0m \u001b[38;5;28;01mif\u001b[39;00m \u001b[38;5;28mlen\u001b[39m(uniques) \u001b[38;5;241m>\u001b[39m \u001b[38;5;241m1\u001b[39m:\n\u001b[1;32m--> 457\u001b[0m     \u001b[38;5;28;01mraise\u001b[39;00m \u001b[38;5;167;01mValueError\u001b[39;00m(\n\u001b[0;32m    458\u001b[0m         \u001b[38;5;124m\"\u001b[39m\u001b[38;5;124mFound input variables with inconsistent numbers of samples: \u001b[39m\u001b[38;5;132;01m%r\u001b[39;00m\u001b[38;5;124m\"\u001b[39m\n\u001b[0;32m    459\u001b[0m         \u001b[38;5;241m%\u001b[39m [\u001b[38;5;28mint\u001b[39m(l) \u001b[38;5;28;01mfor\u001b[39;00m l \u001b[38;5;129;01min\u001b[39;00m lengths]\n\u001b[0;32m    460\u001b[0m     )\n",
                  "\u001b[1;31mValueError\u001b[0m: Found input variables with inconsistent numbers of samples: [3425676, 684763]"
               ]
            }
         ],
         "source": [
            "from sklearn.model_selection import cross_val_score, KFold\n",
            "X, y = y_test, y_pred\n",
            "# Create a random forest regression model\n",
            "model = RandomForestRegressor(n_estimators=10)\n",
            "\n",
            "# Configure the cross-validation procedure\n",
            "cv = KFold(n_splits=10, shuffle=True)\n",
            "\n",
            "# Evaluate the model using the cross-validation procedure\n",
            "scores = cross_val_score(model, X, y, scoring='neg_mean_squared_error', cv=cv)\n",
            "\n",
            "# The scores are negative, which is how scikit-learn shows them for MSE (want to maximize negative MSE)\n",
            "mse_scores = -scores\n",
            "\n",
            "# Mean and standard deviation of MSE across all folds\n",
            "print(\"MSE:\", mse_scores.mean(), \"Std:\", mse_scores.std())"
         ]
      },
      {
         "cell_type": "code",
         "execution_count": 19,
         "metadata": {},
         "outputs": [],
         "source": [
            "from sklearn.ensemble import StackingRegressor\n",
            "import xgboost as xgb\n",
            "# Base models\n",
            "model1 = RandomForestRegressor(random_state=42)\n",
            "model2 = xgb.XGBRegressor(objective='reg:squarederror', n_estimators=100, seed=123)\n",
            "model3 = RandomForestRegressor(n_estimators=100)\n",
            "\n",
            "# Defining the meta model, using a regressor \n",
            "meta_model = RandomForestRegressor(random_state=42)\n",
            "\n",
            "# Create Stacking model\n",
            "stacking_model = StackingRegressor(\n",
            "    estimators=[('rf1', model1), ('xgb', model2), ('rf2', model3)],\n",
            "    final_estimator=meta_model,\n",
            "    cv=5\n",
            ")\n",
            "\n",
            "# Training the model\n",
            "stacking_model.fit(X_train, y_train)\n",
            "\n",
            "# Predictions\n",
            "y_pred = stacking_model.predict(X_test)\n",
            "\n",
            "# Evaluation metrics\n",
            "# Calculate MSE\n",
            "mse = mean_squared_error(y_test, y_pred)\n",
            "print(f\"Mean Squared Error: {mse:.2f}\")\n",
            "\n",
            "# Calculate R-squared\n",
            "r2 = r2_score(y_test, y_pred)\n",
            "print(f\"R-squared: {r2:.2f}\")"
         ]
      }
   ],
   "metadata": {
      "kernelspec": {
         "display_name": "finalprojectenv",
         "language": "python",
         "name": "python3"
      },
      "language_info": {
         "codemirror_mode": {
            "name": "ipython",
            "version": 3
         },
         "file_extension": ".py",
         "mimetype": "text/x-python",
         "name": "python",
         "nbconvert_exporter": "python",
         "pygments_lexer": "ipython3",
         "version": "3.11.7"
      },
      "vscode": {
         "interpreter": {
            "hash": "5efa683b5b1ae7e8e11b6b316072de2b1afb735b3660bedb7c7a61c7b9dc51db"
         }
      }
   },
   "nbformat": 4,
   "nbformat_minor": 2
}
