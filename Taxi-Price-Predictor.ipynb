{
   "cells": [
      {
         "cell_type": "code",
         "execution_count": 1,
         "metadata": {},
         "outputs": [
            {
               "name": "stderr",
               "output_type": "stream",
               "text": [
                  "Downloading...\n",
                  "From: https://d37ci6vzurychx.cloudfront.net/trip-data/yellow_tripdata_2022-05.parquet\n",
                  "To: c:\\Users\\jovv1\\Desktop\\taxi-price-predictor\\dataset\\trans_data.parquet\n",
                  "100%|██████████| 55.6M/55.6M [01:29<00:00, 624kB/s]\n"
               ]
            }
         ],
         "source": [
            "import os\n",
            "import gdown\n",
            "from src import config\n",
            "\n",
            "\"\"\"\n",
            "Download from the needed datasets for the project.\n",
            "\"\"\"\n",
            "\n",
            "if not os.path.exists(config.DATASET_TRAIN):\n",
            "    gdown.download(config.DATASET_TRAIN_URL, config.DATASET_TRAIN, quiet=False)\n"
         ]
      },
      {
         "cell_type": "code",
         "execution_count": 7,
         "metadata": {},
         "outputs": [],
         "source": [
            "import pyarrow.parquet as pq\n",
            "from sklearn import datasets\n",
            "trips = pq.read_table(config.DATASET_TRAIN)\n",
            "trips = trips.to_pandas()"
         ]
      },
      {
         "cell_type": "code",
         "execution_count": 18,
         "metadata": {},
         "outputs": [
            {
               "data": {
                  "text/html": [
                     "<div>\n",
                     "<style scoped>\n",
                     "    .dataframe tbody tr th:only-of-type {\n",
                     "        vertical-align: middle;\n",
                     "    }\n",
                     "\n",
                     "    .dataframe tbody tr th {\n",
                     "        vertical-align: top;\n",
                     "    }\n",
                     "\n",
                     "    .dataframe thead th {\n",
                     "        text-align: right;\n",
                     "    }\n",
                     "</style>\n",
                     "<table border=\"1\" class=\"dataframe\">\n",
                     "  <thead>\n",
                     "    <tr style=\"text-align: right;\">\n",
                     "      <th></th>\n",
                     "      <th>VendorID</th>\n",
                     "      <th>tpep_pickup_datetime</th>\n",
                     "      <th>tpep_dropoff_datetime</th>\n",
                     "      <th>passenger_count</th>\n",
                     "      <th>trip_distance</th>\n",
                     "      <th>RatecodeID</th>\n",
                     "      <th>store_and_fwd_flag</th>\n",
                     "      <th>PULocationID</th>\n",
                     "      <th>DOLocationID</th>\n",
                     "      <th>payment_type</th>\n",
                     "      <th>fare_amount</th>\n",
                     "      <th>extra</th>\n",
                     "      <th>mta_tax</th>\n",
                     "      <th>tip_amount</th>\n",
                     "      <th>tolls_amount</th>\n",
                     "      <th>improvement_surcharge</th>\n",
                     "      <th>total_amount</th>\n",
                     "      <th>congestion_surcharge</th>\n",
                     "      <th>airport_fee</th>\n",
                     "    </tr>\n",
                     "  </thead>\n",
                     "  <tbody>\n",
                     "    <tr>\n",
                     "      <th>3588290</th>\n",
                     "      <td>2</td>\n",
                     "      <td>2022-05-31 23:40:19</td>\n",
                     "      <td>2022-06-01 00:01:20</td>\n",
                     "      <td>NaN</td>\n",
                     "      <td>0.00</td>\n",
                     "      <td>NaN</td>\n",
                     "      <td>None</td>\n",
                     "      <td>36</td>\n",
                     "      <td>181</td>\n",
                     "      <td>0</td>\n",
                     "      <td>20.97</td>\n",
                     "      <td>0.0</td>\n",
                     "      <td>0.5</td>\n",
                     "      <td>1.00</td>\n",
                     "      <td>0.0</td>\n",
                     "      <td>0.3</td>\n",
                     "      <td>22.77</td>\n",
                     "      <td>NaN</td>\n",
                     "      <td>NaN</td>\n",
                     "    </tr>\n",
                     "    <tr>\n",
                     "      <th>3588291</th>\n",
                     "      <td>2</td>\n",
                     "      <td>2022-05-31 23:52:12</td>\n",
                     "      <td>2022-06-01 00:06:40</td>\n",
                     "      <td>NaN</td>\n",
                     "      <td>2.91</td>\n",
                     "      <td>NaN</td>\n",
                     "      <td>None</td>\n",
                     "      <td>144</td>\n",
                     "      <td>256</td>\n",
                     "      <td>0</td>\n",
                     "      <td>11.68</td>\n",
                     "      <td>0.0</td>\n",
                     "      <td>0.0</td>\n",
                     "      <td>2.51</td>\n",
                     "      <td>0.0</td>\n",
                     "      <td>0.3</td>\n",
                     "      <td>16.99</td>\n",
                     "      <td>NaN</td>\n",
                     "      <td>NaN</td>\n",
                     "    </tr>\n",
                     "    <tr>\n",
                     "      <th>3588292</th>\n",
                     "      <td>2</td>\n",
                     "      <td>2022-05-31 23:27:00</td>\n",
                     "      <td>2022-05-31 23:48:00</td>\n",
                     "      <td>NaN</td>\n",
                     "      <td>3.96</td>\n",
                     "      <td>NaN</td>\n",
                     "      <td>None</td>\n",
                     "      <td>161</td>\n",
                     "      <td>145</td>\n",
                     "      <td>0</td>\n",
                     "      <td>14.54</td>\n",
                     "      <td>0.0</td>\n",
                     "      <td>0.5</td>\n",
                     "      <td>0.00</td>\n",
                     "      <td>0.0</td>\n",
                     "      <td>0.3</td>\n",
                     "      <td>17.84</td>\n",
                     "      <td>NaN</td>\n",
                     "      <td>NaN</td>\n",
                     "    </tr>\n",
                     "    <tr>\n",
                     "      <th>3588293</th>\n",
                     "      <td>2</td>\n",
                     "      <td>2022-05-31 23:34:12</td>\n",
                     "      <td>2022-06-01 00:00:13</td>\n",
                     "      <td>NaN</td>\n",
                     "      <td>6.27</td>\n",
                     "      <td>NaN</td>\n",
                     "      <td>None</td>\n",
                     "      <td>145</td>\n",
                     "      <td>17</td>\n",
                     "      <td>0</td>\n",
                     "      <td>24.01</td>\n",
                     "      <td>0.0</td>\n",
                     "      <td>0.5</td>\n",
                     "      <td>5.54</td>\n",
                     "      <td>0.0</td>\n",
                     "      <td>0.3</td>\n",
                     "      <td>30.35</td>\n",
                     "      <td>NaN</td>\n",
                     "      <td>NaN</td>\n",
                     "    </tr>\n",
                     "    <tr>\n",
                     "      <th>3588294</th>\n",
                     "      <td>2</td>\n",
                     "      <td>2022-05-31 23:00:53</td>\n",
                     "      <td>2022-05-31 23:07:54</td>\n",
                     "      <td>NaN</td>\n",
                     "      <td>1.43</td>\n",
                     "      <td>NaN</td>\n",
                     "      <td>None</td>\n",
                     "      <td>238</td>\n",
                     "      <td>41</td>\n",
                     "      <td>0</td>\n",
                     "      <td>10.05</td>\n",
                     "      <td>0.0</td>\n",
                     "      <td>0.5</td>\n",
                     "      <td>2.21</td>\n",
                     "      <td>0.0</td>\n",
                     "      <td>0.3</td>\n",
                     "      <td>15.56</td>\n",
                     "      <td>NaN</td>\n",
                     "      <td>NaN</td>\n",
                     "    </tr>\n",
                     "  </tbody>\n",
                     "</table>\n",
                     "</div>"
                  ],
                  "text/plain": [
                     "         VendorID tpep_pickup_datetime tpep_dropoff_datetime  passenger_count   \n",
                     "3588290         2  2022-05-31 23:40:19   2022-06-01 00:01:20              NaN  \\\n",
                     "3588291         2  2022-05-31 23:52:12   2022-06-01 00:06:40              NaN   \n",
                     "3588292         2  2022-05-31 23:27:00   2022-05-31 23:48:00              NaN   \n",
                     "3588293         2  2022-05-31 23:34:12   2022-06-01 00:00:13              NaN   \n",
                     "3588294         2  2022-05-31 23:00:53   2022-05-31 23:07:54              NaN   \n",
                     "\n",
                     "         trip_distance  RatecodeID store_and_fwd_flag  PULocationID   \n",
                     "3588290           0.00         NaN               None            36  \\\n",
                     "3588291           2.91         NaN               None           144   \n",
                     "3588292           3.96         NaN               None           161   \n",
                     "3588293           6.27         NaN               None           145   \n",
                     "3588294           1.43         NaN               None           238   \n",
                     "\n",
                     "         DOLocationID  payment_type  fare_amount  extra  mta_tax  tip_amount   \n",
                     "3588290           181             0        20.97    0.0      0.5        1.00  \\\n",
                     "3588291           256             0        11.68    0.0      0.0        2.51   \n",
                     "3588292           145             0        14.54    0.0      0.5        0.00   \n",
                     "3588293            17             0        24.01    0.0      0.5        5.54   \n",
                     "3588294            41             0        10.05    0.0      0.5        2.21   \n",
                     "\n",
                     "         tolls_amount  improvement_surcharge  total_amount   \n",
                     "3588290           0.0                    0.3         22.77  \\\n",
                     "3588291           0.0                    0.3         16.99   \n",
                     "3588292           0.0                    0.3         17.84   \n",
                     "3588293           0.0                    0.3         30.35   \n",
                     "3588294           0.0                    0.3         15.56   \n",
                     "\n",
                     "         congestion_surcharge  airport_fee  \n",
                     "3588290                   NaN          NaN  \n",
                     "3588291                   NaN          NaN  \n",
                     "3588292                   NaN          NaN  \n",
                     "3588293                   NaN          NaN  \n",
                     "3588294                   NaN          NaN  "
                  ]
               },
               "execution_count": 18,
               "metadata": {},
               "output_type": "execute_result"
            }
         ],
         "source": [
            "trips.tail()"
         ]
      },
      {
         "cell_type": "code",
         "execution_count": 40,
         "metadata": {},
         "outputs": [
            {
               "name": "stderr",
               "output_type": "stream",
               "text": [
                  "/var/folders/8l/99yl7qnx0kz6v5fgdbr9x4y00000gn/T/ipykernel_48541/1378995678.py:7: SettingWithCopyWarning: \n",
                  "A value is trying to be set on a copy of a slice from a DataFrame\n",
                  "\n",
                  "See the caveats in the documentation: https://pandas.pydata.org/pandas-docs/stable/user_guide/indexing.html#returning-a-view-versus-a-copy\n",
                  "  filtered_trips.sort_values(by=[\"tpep_pickup_datetime\"], inplace=True, ascending=True)\n"
               ]
            },
            {
               "data": {
                  "text/plain": [
                     "improvement_surcharge\n",
                     " 0.3    3566241\n",
                     "-0.3      20663\n",
                     " 0.0       1376\n",
                     "Name: count, dtype: int64"
                  ]
               },
               "execution_count": 40,
               "metadata": {},
               "output_type": "execute_result"
            }
         ],
         "source": [
            "\n",
            "# trips['improvement_surcharge'].value_counts()\n",
            "\n",
            "filtered_trips = trips[trips['tpep_pickup_datetime'].dt.year == 2022]\n",
            "filtered_trips.sort_values(by=[\"tpep_pickup_datetime\"], inplace=True, ascending=True)\n",
            "# filtered_trips.tpep_pickup_datetime.head(20)\n",
            "\n",
            "filtered_trips['improvement_surcharge'].value_counts()"
         ]
      },
      {
         "cell_type": "code",
         "execution_count": null,
         "metadata": {},
         "outputs": [],
         "source": [
            "# TODO : matriz correlacion\n",
            "# plot payment type vs value relation"
         ]
      },
      {
         "cell_type": "code",
         "execution_count": 8,
         "metadata": {},
         "outputs": [
            {
               "data": {
                  "text/plain": [
                     "Index(['VendorID', 'tpep_pickup_datetime', 'tpep_dropoff_datetime',\n",
                     "       'passenger_count', 'trip_distance', 'RatecodeID', 'store_and_fwd_flag',\n",
                     "       'PULocationID', 'DOLocationID', 'payment_type', 'fare_amount', 'extra',\n",
                     "       'mta_tax', 'tip_amount', 'tolls_amount', 'improvement_surcharge',\n",
                     "       'total_amount', 'congestion_surcharge', 'airport_fee'],\n",
                     "      dtype='object')"
                  ]
               },
               "execution_count": 8,
               "metadata": {},
               "output_type": "execute_result"
            }
         ],
         "source": [
            "filtered_trips.columns\n"
         ]
      },
      {
         "cell_type": "code",
         "execution_count": 20,
         "metadata": {},
         "outputs": [
            {
               "data": {
                  "text/html": [
                     "<div>\n",
                     "<style scoped>\n",
                     "    .dataframe tbody tr th:only-of-type {\n",
                     "        vertical-align: middle;\n",
                     "    }\n",
                     "\n",
                     "    .dataframe tbody tr th {\n",
                     "        vertical-align: top;\n",
                     "    }\n",
                     "\n",
                     "    .dataframe thead th {\n",
                     "        text-align: right;\n",
                     "    }\n",
                     "</style>\n",
                     "<table border=\"1\" class=\"dataframe\">\n",
                     "  <thead>\n",
                     "    <tr style=\"text-align: right;\">\n",
                     "      <th></th>\n",
                     "      <th>VendorID</th>\n",
                     "      <th>tpep_pickup_datetime</th>\n",
                     "      <th>tpep_dropoff_datetime</th>\n",
                     "      <th>passenger_count</th>\n",
                     "      <th>trip_distance</th>\n",
                     "      <th>RatecodeID</th>\n",
                     "      <th>PULocationID</th>\n",
                     "      <th>DOLocationID</th>\n",
                     "      <th>payment_type</th>\n",
                     "      <th>fare_amount</th>\n",
                     "      <th>extra</th>\n",
                     "      <th>mta_tax</th>\n",
                     "      <th>tip_amount</th>\n",
                     "      <th>tolls_amount</th>\n",
                     "      <th>improvement_surcharge</th>\n",
                     "      <th>total_amount</th>\n",
                     "      <th>congestion_surcharge</th>\n",
                     "      <th>airport_fee</th>\n",
                     "    </tr>\n",
                     "  </thead>\n",
                     "  <tbody>\n",
                     "    <tr>\n",
                     "      <th>count</th>\n",
                     "      <td>3.588295e+06</td>\n",
                     "      <td>3588295</td>\n",
                     "      <td>3588295</td>\n",
                     "      <td>3.458771e+06</td>\n",
                     "      <td>3.588295e+06</td>\n",
                     "      <td>3.458771e+06</td>\n",
                     "      <td>3.588295e+06</td>\n",
                     "      <td>3.588295e+06</td>\n",
                     "      <td>3.588295e+06</td>\n",
                     "      <td>3.588295e+06</td>\n",
                     "      <td>3.588295e+06</td>\n",
                     "      <td>3.588295e+06</td>\n",
                     "      <td>3.588295e+06</td>\n",
                     "      <td>3.588295e+06</td>\n",
                     "      <td>3.588295e+06</td>\n",
                     "      <td>3.588295e+06</td>\n",
                     "      <td>3.458771e+06</td>\n",
                     "      <td>3.458771e+06</td>\n",
                     "    </tr>\n",
                     "    <tr>\n",
                     "      <th>mean</th>\n",
                     "      <td>1.713103e+00</td>\n",
                     "      <td>2022-05-16 07:50:29.219312</td>\n",
                     "      <td>2022-05-16 08:08:42.275203</td>\n",
                     "      <td>1.393923e+00</td>\n",
                     "      <td>6.856861e+00</td>\n",
                     "      <td>1.365674e+00</td>\n",
                     "      <td>1.645738e+02</td>\n",
                     "      <td>1.625517e+02</td>\n",
                     "      <td>1.183209e+00</td>\n",
                     "      <td>1.516813e+01</td>\n",
                     "      <td>1.020728e+00</td>\n",
                     "      <td>4.891096e-01</td>\n",
                     "      <td>2.824744e+00</td>\n",
                     "      <td>5.827756e-01</td>\n",
                     "      <td>2.964299e-01</td>\n",
                     "      <td>2.207840e+01</td>\n",
                     "      <td>2.282808e+00</td>\n",
                     "      <td>1.008364e-01</td>\n",
                     "    </tr>\n",
                     "    <tr>\n",
                     "      <th>min</th>\n",
                     "      <td>1.000000e+00</td>\n",
                     "      <td>2003-01-01 00:06:06</td>\n",
                     "      <td>2003-01-01 00:31:38</td>\n",
                     "      <td>0.000000e+00</td>\n",
                     "      <td>0.000000e+00</td>\n",
                     "      <td>1.000000e+00</td>\n",
                     "      <td>1.000000e+00</td>\n",
                     "      <td>1.000000e+00</td>\n",
                     "      <td>0.000000e+00</td>\n",
                     "      <td>-1.311500e+03</td>\n",
                     "      <td>-4.500000e+00</td>\n",
                     "      <td>-5.000000e-01</td>\n",
                     "      <td>-1.457000e+02</td>\n",
                     "      <td>-5.075000e+01</td>\n",
                     "      <td>-3.000000e-01</td>\n",
                     "      <td>-1.314800e+03</td>\n",
                     "      <td>-2.500000e+00</td>\n",
                     "      <td>-1.250000e+00</td>\n",
                     "    </tr>\n",
                     "    <tr>\n",
                     "      <th>25%</th>\n",
                     "      <td>1.000000e+00</td>\n",
                     "      <td>2022-05-08 18:14:16.500000</td>\n",
                     "      <td>2022-05-08 18:32:36</td>\n",
                     "      <td>1.000000e+00</td>\n",
                     "      <td>1.150000e+00</td>\n",
                     "      <td>1.000000e+00</td>\n",
                     "      <td>1.320000e+02</td>\n",
                     "      <td>1.130000e+02</td>\n",
                     "      <td>1.000000e+00</td>\n",
                     "      <td>7.000000e+00</td>\n",
                     "      <td>0.000000e+00</td>\n",
                     "      <td>5.000000e-01</td>\n",
                     "      <td>1.000000e+00</td>\n",
                     "      <td>0.000000e+00</td>\n",
                     "      <td>3.000000e-01</td>\n",
                     "      <td>1.235000e+01</td>\n",
                     "      <td>2.500000e+00</td>\n",
                     "      <td>0.000000e+00</td>\n",
                     "    </tr>\n",
                     "    <tr>\n",
                     "      <th>50%</th>\n",
                     "      <td>2.000000e+00</td>\n",
                     "      <td>2022-05-16 09:14:42</td>\n",
                     "      <td>2022-05-16 09:33:15</td>\n",
                     "      <td>1.000000e+00</td>\n",
                     "      <td>1.960000e+00</td>\n",
                     "      <td>1.000000e+00</td>\n",
                     "      <td>1.620000e+02</td>\n",
                     "      <td>1.620000e+02</td>\n",
                     "      <td>1.000000e+00</td>\n",
                     "      <td>1.050000e+01</td>\n",
                     "      <td>5.000000e-01</td>\n",
                     "      <td>5.000000e-01</td>\n",
                     "      <td>2.160000e+00</td>\n",
                     "      <td>0.000000e+00</td>\n",
                     "      <td>3.000000e-01</td>\n",
                     "      <td>1.630000e+01</td>\n",
                     "      <td>2.500000e+00</td>\n",
                     "      <td>0.000000e+00</td>\n",
                     "    </tr>\n",
                     "    <tr>\n",
                     "      <th>75%</th>\n",
                     "      <td>2.000000e+00</td>\n",
                     "      <td>2022-05-23 18:03:17</td>\n",
                     "      <td>2022-05-23 18:21:03.500000</td>\n",
                     "      <td>1.000000e+00</td>\n",
                     "      <td>3.730000e+00</td>\n",
                     "      <td>1.000000e+00</td>\n",
                     "      <td>2.340000e+02</td>\n",
                     "      <td>2.340000e+02</td>\n",
                     "      <td>1.000000e+00</td>\n",
                     "      <td>1.700000e+01</td>\n",
                     "      <td>2.500000e+00</td>\n",
                     "      <td>5.000000e-01</td>\n",
                     "      <td>3.460000e+00</td>\n",
                     "      <td>0.000000e+00</td>\n",
                     "      <td>3.000000e-01</td>\n",
                     "      <td>2.376000e+01</td>\n",
                     "      <td>2.500000e+00</td>\n",
                     "      <td>0.000000e+00</td>\n",
                     "    </tr>\n",
                     "    <tr>\n",
                     "      <th>max</th>\n",
                     "      <td>6.000000e+00</td>\n",
                     "      <td>2022-06-01 23:55:30</td>\n",
                     "      <td>2022-06-02 00:03:51</td>\n",
                     "      <td>9.000000e+00</td>\n",
                     "      <td>3.571927e+05</td>\n",
                     "      <td>9.900000e+01</td>\n",
                     "      <td>2.650000e+02</td>\n",
                     "      <td>2.650000e+02</td>\n",
                     "      <td>4.000000e+00</td>\n",
                     "      <td>6.966500e+03</td>\n",
                     "      <td>8.800000e+00</td>\n",
                     "      <td>3.300000e+00</td>\n",
                     "      <td>6.650000e+02</td>\n",
                     "      <td>8.137500e+02</td>\n",
                     "      <td>3.000000e-01</td>\n",
                     "      <td>6.970800e+03</td>\n",
                     "      <td>2.750000e+00</td>\n",
                     "      <td>1.250000e+00</td>\n",
                     "    </tr>\n",
                     "    <tr>\n",
                     "      <th>std</th>\n",
                     "      <td>4.888093e-01</td>\n",
                     "      <td>NaN</td>\n",
                     "      <td>NaN</td>\n",
                     "      <td>9.555489e-01</td>\n",
                     "      <td>6.908488e+02</td>\n",
                     "      <td>5.239789e+00</td>\n",
                     "      <td>6.562813e+01</td>\n",
                     "      <td>7.027926e+01</td>\n",
                     "      <td>5.075988e-01</td>\n",
                     "      <td>1.489484e+01</td>\n",
                     "      <td>1.256724e+00</td>\n",
                     "      <td>9.008878e-02</td>\n",
                     "      <td>3.368739e+00</td>\n",
                     "      <td>2.173699e+00</td>\n",
                     "      <td>4.576907e-02</td>\n",
                     "      <td>1.848683e+01</td>\n",
                     "      <td>7.452415e-01</td>\n",
                     "      <td>3.434480e-01</td>\n",
                     "    </tr>\n",
                     "  </tbody>\n",
                     "</table>\n",
                     "</div>"
                  ],
                  "text/plain": [
                     "           VendorID        tpep_pickup_datetime       tpep_dropoff_datetime   \n",
                     "count  3.588295e+06                     3588295                     3588295  \\\n",
                     "mean   1.713103e+00  2022-05-16 07:50:29.219312  2022-05-16 08:08:42.275203   \n",
                     "min    1.000000e+00         2003-01-01 00:06:06         2003-01-01 00:31:38   \n",
                     "25%    1.000000e+00  2022-05-08 18:14:16.500000         2022-05-08 18:32:36   \n",
                     "50%    2.000000e+00         2022-05-16 09:14:42         2022-05-16 09:33:15   \n",
                     "75%    2.000000e+00         2022-05-23 18:03:17  2022-05-23 18:21:03.500000   \n",
                     "max    6.000000e+00         2022-06-01 23:55:30         2022-06-02 00:03:51   \n",
                     "std    4.888093e-01                         NaN                         NaN   \n",
                     "\n",
                     "       passenger_count  trip_distance    RatecodeID  PULocationID   \n",
                     "count     3.458771e+06   3.588295e+06  3.458771e+06  3.588295e+06  \\\n",
                     "mean      1.393923e+00   6.856861e+00  1.365674e+00  1.645738e+02   \n",
                     "min       0.000000e+00   0.000000e+00  1.000000e+00  1.000000e+00   \n",
                     "25%       1.000000e+00   1.150000e+00  1.000000e+00  1.320000e+02   \n",
                     "50%       1.000000e+00   1.960000e+00  1.000000e+00  1.620000e+02   \n",
                     "75%       1.000000e+00   3.730000e+00  1.000000e+00  2.340000e+02   \n",
                     "max       9.000000e+00   3.571927e+05  9.900000e+01  2.650000e+02   \n",
                     "std       9.555489e-01   6.908488e+02  5.239789e+00  6.562813e+01   \n",
                     "\n",
                     "       DOLocationID  payment_type   fare_amount         extra       mta_tax   \n",
                     "count  3.588295e+06  3.588295e+06  3.588295e+06  3.588295e+06  3.588295e+06  \\\n",
                     "mean   1.625517e+02  1.183209e+00  1.516813e+01  1.020728e+00  4.891096e-01   \n",
                     "min    1.000000e+00  0.000000e+00 -1.311500e+03 -4.500000e+00 -5.000000e-01   \n",
                     "25%    1.130000e+02  1.000000e+00  7.000000e+00  0.000000e+00  5.000000e-01   \n",
                     "50%    1.620000e+02  1.000000e+00  1.050000e+01  5.000000e-01  5.000000e-01   \n",
                     "75%    2.340000e+02  1.000000e+00  1.700000e+01  2.500000e+00  5.000000e-01   \n",
                     "max    2.650000e+02  4.000000e+00  6.966500e+03  8.800000e+00  3.300000e+00   \n",
                     "std    7.027926e+01  5.075988e-01  1.489484e+01  1.256724e+00  9.008878e-02   \n",
                     "\n",
                     "         tip_amount  tolls_amount  improvement_surcharge  total_amount   \n",
                     "count  3.588295e+06  3.588295e+06           3.588295e+06  3.588295e+06  \\\n",
                     "mean   2.824744e+00  5.827756e-01           2.964299e-01  2.207840e+01   \n",
                     "min   -1.457000e+02 -5.075000e+01          -3.000000e-01 -1.314800e+03   \n",
                     "25%    1.000000e+00  0.000000e+00           3.000000e-01  1.235000e+01   \n",
                     "50%    2.160000e+00  0.000000e+00           3.000000e-01  1.630000e+01   \n",
                     "75%    3.460000e+00  0.000000e+00           3.000000e-01  2.376000e+01   \n",
                     "max    6.650000e+02  8.137500e+02           3.000000e-01  6.970800e+03   \n",
                     "std    3.368739e+00  2.173699e+00           4.576907e-02  1.848683e+01   \n",
                     "\n",
                     "       congestion_surcharge   airport_fee  \n",
                     "count          3.458771e+06  3.458771e+06  \n",
                     "mean           2.282808e+00  1.008364e-01  \n",
                     "min           -2.500000e+00 -1.250000e+00  \n",
                     "25%            2.500000e+00  0.000000e+00  \n",
                     "50%            2.500000e+00  0.000000e+00  \n",
                     "75%            2.500000e+00  0.000000e+00  \n",
                     "max            2.750000e+00  1.250000e+00  \n",
                     "std            7.452415e-01  3.434480e-01  "
                  ]
               },
               "execution_count": 20,
               "metadata": {},
               "output_type": "execute_result"
            }
         ],
         "source": [
            "filtered_trips.describe()"
         ]
      },
      {
         "cell_type": "code",
         "execution_count": 21,
         "metadata": {},
         "outputs": [
            {
               "name": "stdout",
               "output_type": "stream",
               "text": [
                  "VendorID                          int64\n",
                  "tpep_pickup_datetime     datetime64[us]\n",
                  "tpep_dropoff_datetime    datetime64[us]\n",
                  "passenger_count                 float64\n",
                  "trip_distance                   float64\n",
                  "RatecodeID                      float64\n",
                  "store_and_fwd_flag               object\n",
                  "PULocationID                      int64\n",
                  "DOLocationID                      int64\n",
                  "payment_type                      int64\n",
                  "fare_amount                     float64\n",
                  "extra                           float64\n",
                  "mta_tax                         float64\n",
                  "tip_amount                      float64\n",
                  "tolls_amount                    float64\n",
                  "improvement_surcharge           float64\n",
                  "total_amount                    float64\n",
                  "congestion_surcharge            float64\n",
                  "airport_fee                     float64\n",
                  "dtype: object\n"
               ]
            }
         ],
         "source": [
            "print(filtered_trips.dtypes)"
         ]
      },
      {
         "cell_type": "code",
         "execution_count": 22,
         "metadata": {},
         "outputs": [
            {
               "name": "stdout",
               "output_type": "stream",
               "text": [
                  "(3588295, 19)\n"
               ]
            }
         ],
         "source": [
            "print(filtered_trips.shape)\n"
         ]
      },
      {
         "cell_type": "code",
         "execution_count": 23,
         "metadata": {},
         "outputs": [
            {
               "name": "stdout",
               "output_type": "stream",
               "text": [
                  "   VendorID tpep_pickup_datetime tpep_dropoff_datetime  passenger_count   \n",
                  "0         1  2022-05-01 00:00:36   2022-05-01 00:19:18              1.0  \\\n",
                  "1         1  2022-05-01 00:27:44   2022-05-01 00:41:33              1.0   \n",
                  "2         1  2022-05-01 00:59:00   2022-05-01 01:14:22              1.0   \n",
                  "3         1  2022-05-01 00:48:18   2022-05-01 01:28:02              1.0   \n",
                  "4         1  2022-05-01 00:28:26   2022-05-01 00:37:49              1.0   \n",
                  "\n",
                  "   trip_distance  RatecodeID store_and_fwd_flag  PULocationID  DOLocationID   \n",
                  "0            4.1         1.0                  N           246           151  \\\n",
                  "1            2.3         1.0                  N           238            74   \n",
                  "2            4.2         1.0                  N           163           260   \n",
                  "3            0.0         1.0                  N            79           182   \n",
                  "4            1.6         1.0                  N           238            75   \n",
                  "\n",
                  "   payment_type  fare_amount  extra  mta_tax  tip_amount  tolls_amount   \n",
                  "0             2         17.0    3.0      0.5        0.00           0.0  \\\n",
                  "1             2         11.0    3.0      0.5        0.00           0.0   \n",
                  "2             2         15.5    3.0      0.5        0.00           0.0   \n",
                  "3             1         41.2    0.0      0.5        0.00           0.0   \n",
                  "4             1          7.5    3.0      0.5        2.25           0.0   \n",
                  "\n",
                  "   improvement_surcharge  total_amount  congestion_surcharge  airport_fee  \n",
                  "0                    0.3         20.80                   2.5          0.0  \n",
                  "1                    0.3         14.80                   2.5          0.0  \n",
                  "2                    0.3         19.30                   2.5          0.0  \n",
                  "3                    0.3         42.00                   0.0          0.0  \n",
                  "4                    0.3         13.55                   2.5          0.0  \n"
               ]
            }
         ],
         "source": [
            "print(filtered_trips.head(5))"
         ]
      },
      {
         "cell_type": "code",
         "execution_count": 24,
         "metadata": {},
         "outputs": [],
         "source": [
            "import matplotlib.pyplot as plt\n",
            "\n",
            "def plot_values(data,title, xlabel, ylabel):\n",
            "  value_counts = data.value_counts()\n",
            "  value_counts.plot(kind='bar')\n",
            "\n",
            "  plt.title(title)\n",
            "  plt.xlabel(xlabel)\n",
            "  plt.ylabel(ylabel)\n",
            "  plt.show()"
         ]
      },
      {
         "cell_type": "code",
         "execution_count": 25,
         "metadata": {},
         "outputs": [
            {
               "name": "stdout",
               "output_type": "stream",
               "text": [
                  "VendorID\n",
                  "2    2527997\n",
                  "1    1054130\n",
                  "6       6154\n",
                  "5         14\n",
                  "Name: count, dtype: int64\n"
               ]
            },
            {
               "data": {
                  "image/png": "[encoded data removed]",
                  "text/plain": [
                     "<Figure size 640x480 with 1 Axes>"
                  ]
               },
               "metadata": {},
               "output_type": "display_data"
            }
         ],
         "source": [
            "# Count the occurrences of each unique value in the column\n",
            "value_counts = filtered_trips['VendorID'].value_counts()\n",
            "print(value_counts)\n",
            "\n",
            "plot_values(filtered_trips['VendorID'], 'VendorID', 'Unique Values', 'Count')\n"
         ]
      },
      {
         "cell_type": "code",
         "execution_count": 13,
         "metadata": {},
         "outputs": [
            {
               "data": {
                  "image/png": "[encoded data removed]",
                  "text/plain": [
                     "<Figure size 640x480 with 1 Axes>"
                  ]
               },
               "metadata": {},
               "output_type": "display_data"
            }
         ],
         "source": [
            "plot_values(filtered_trips['payment_type'], 'payment_type', 'Unique Values', 'Count')\n"
         ]
      },
      {
         "cell_type": "code",
         "execution_count": 26,
         "metadata": {},
         "outputs": [
            {
               "data": {
                  "image/png": "[encoded data removed]",
                  "text/plain": [
                     "<Figure size 640x480 with 1 Axes>"
                  ]
               },
               "metadata": {},
               "output_type": "display_data"
            }
         ],
         "source": [
            "plot_values(filtered_trips['passenger_count'], 'passenger_count', 'Unique Values', 'Count')\n",
            "\n",
            "## There are trips with 0 passegers? check this"
         ]
      },
      {
         "cell_type": "code",
         "execution_count": 27,
         "metadata": {},
         "outputs": [
            {
               "data": {
                  "image/png": "[encoded data removed]",
                  "text/plain": [
                     "<Figure size 640x480 with 1 Axes>"
                  ]
               },
               "metadata": {},
               "output_type": "display_data"
            }
         ],
         "source": [
            "plot_values(filtered_trips['store_and_fwd_flag'], 'store_and_fwd_flag', 'Unique Values', 'Count')\n"
         ]
      },
      {
         "cell_type": "code",
         "execution_count": 28,
         "metadata": {},
         "outputs": [
            {
               "data": {
                  "text/plain": [
                     "DOLocationID             0.000000\n",
                     "PULocationID             0.000000\n",
                     "RatecodeID               0.036096\n",
                     "VendorID                 0.000000\n",
                     "airport_fee              0.036096\n",
                     "congestion_surcharge     0.036096\n",
                     "extra                    0.000000\n",
                     "fare_amount              0.000000\n",
                     "improvement_surcharge    0.000000\n",
                     "mta_tax                  0.000000\n",
                     "passenger_count          0.036096\n",
                     "payment_type             0.000000\n",
                     "store_and_fwd_flag       0.036096\n",
                     "tip_amount               0.000000\n",
                     "tolls_amount             0.000000\n",
                     "total_amount             0.000000\n",
                     "tpep_dropoff_datetime    0.000000\n",
                     "tpep_pickup_datetime     0.000000\n",
                     "trip_distance            0.000000\n",
                     "dtype: float64"
                  ]
               },
               "execution_count": 28,
               "metadata": {},
               "output_type": "execute_result"
            }
         ],
         "source": [
            "filtered_trips.isnull().sum().sort_index()/len(trips)\n"
         ]
      },
      {
         "cell_type": "code",
         "execution_count": 29,
         "metadata": {},
         "outputs": [
            {
               "name": "stdout",
               "output_type": "stream",
               "text": [
                  "0          17.00\n",
                  "1          11.00\n",
                  "2          15.50\n",
                  "3          41.20\n",
                  "4           7.50\n",
                  "           ...  \n",
                  "3588290    20.97\n",
                  "3588291    11.68\n",
                  "3588292    14.54\n",
                  "3588293    24.01\n",
                  "3588294    10.05\n",
                  "Name: fare_amount, Length: 3588295, dtype: float64\n"
               ]
            },
            {
               "data": {
                  "image/png": "[encoded data removed]",
                  "text/plain": [
                     "<Figure size 640x480 with 1 Axes>"
                  ]
               },
               "metadata": {},
               "output_type": "display_data"
            }
         ],
         "source": [
            "import seaborn as sns\n",
            "import matplotlib.pyplot as plt\n",
            "\n",
            "filtered_trips = trips[(trips['fare_amount']>0) & (trips['fare_amount']<200)]\n",
            "\n",
            "sns.histplot(filtered_trips['fare_amount'], bins=50, kde=True)\n",
            "plt.xlabel('Fare Amount')\n",
            "plt.ylabel('Count')\n",
            "plt.title('Distribution of Fare Amounts')\n",
            "plt.show()"
         ]
      },
      {
         "cell_type": "code",
         "execution_count": 15,
         "metadata": {},
         "outputs": [
            {
               "name": "stdout",
               "output_type": "stream",
               "text": [
                  "trip_distance\n",
                  "1.00     49609\n",
                  "1.10     48850\n",
                  "0.90     48642\n",
                  "1.20     48099\n",
                  "1.30     46862\n",
                  "         ...  \n",
                  "24.83        5\n",
                  "23.81        5\n",
                  "24.43        4\n",
                  "24.68        4\n",
                  "24.51        4\n",
                  "Name: count, Length: 2499, dtype: int64\n"
               ]
            },
            {
               "data": {
                  "image/png": "[encoded data removed]",
                  "text/plain": [
                     "<Figure size 640x480 with 1 Axes>"
                  ]
               },
               "metadata": {},
               "output_type": "display_data"
            }
         ],
         "source": [
            "import matplotlib.pyplot as plt\n",
            "import seaborn as sns\n",
            "\n",
            "filtered_trips = filtered_trips[(filtered_trips['trip_distance']>0) & (filtered_trips['trip_distance']<25)]\n",
            "\n",
            "print(filtered_trips['trip_distance'].value_counts())\n",
            "sns.histplot(filtered_trips['trip_distance'],bins=50, kde=True)\n",
            "plt.show()"
         ]
      },
      {
         "cell_type": "code",
         "execution_count": null,
         "metadata": {},
         "outputs": [],
         "source": []
      }
   ],
   "metadata": {
      "kernelspec": {
         "display_name": "finalprojectenv",
         "language": "python",
         "name": "python3"
      },
      "language_info": {
         "codemirror_mode": {
            "name": "ipython",
            "version": 3
         },
         "file_extension": ".py",
         "mimetype": "text/x-python",
         "name": "python",
         "nbconvert_exporter": "python",
         "pygments_lexer": "ipython3",
         "version": "3.9.6"
      },
      "vscode": {
         "interpreter": {
            "hash": "5efa683b5b1ae7e8e11b6b316072de2b1afb735b3660bedb7c7a61c7b9dc51db"
         }
      }
   },
   "nbformat": 4,
   "nbformat_minor": 2
}
