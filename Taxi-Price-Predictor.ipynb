{
 "cells": [
  {
   "cell_type": "code",
   "execution_count": 2,
   "metadata": {},
   "outputs": [],
   "source": [
    "import os\n",
    "import gdown\n",
    "from src import config\n",
    "\n",
    "\"\"\"\n",
    "Download from the needed datasets for the project.\n",
    "\"\"\"\n",
    "\n",
    "if not os.path.exists(config.DATASET_TRAIN):\n",
    "    gdown.download(config.DATASET_TRAIN_URL, config.DATASET_TRAIN, quiet=False)\n"
   ]
  },
  {
   "cell_type": "code",
   "execution_count": 3,
   "metadata": {},
   "outputs": [],
   "source": [
    "import pyarrow.parquet as pq\n",
    "from sklearn import datasets\n",
    "trips = pq.read_table(config.DATASET_TRAIN)\n",
    "trips = trips.to_pandas()"
   ]
  },
  {
   "cell_type": "code",
   "execution_count": null,
   "metadata": {},
   "outputs": [],
   "source": [
    "print(trips.describe())"
   ]
  },
  {
   "cell_type": "code",
   "execution_count": null,
   "metadata": {},
   "outputs": [],
   "source": [
    "print(trips.dtypes)"
   ]
  },
  {
   "cell_type": "code",
   "execution_count": null,
   "metadata": {},
   "outputs": [],
   "source": [
    "print(trips.shape)\n"
   ]
  },
  {
   "cell_type": "code",
   "execution_count": null,
   "metadata": {},
   "outputs": [],
   "source": [
    "print(trips.head(5))\n"
   ]
  },
  {
   "cell_type": "code",
   "execution_count": null,
   "metadata": {},
   "outputs": [],
   "source": [
    "import matplotlib.pyplot as plt\n",
    "\n",
    "# Count the occurrences of each unique value in the column\n",
    "value_counts = trips['VendorID'].value_counts()\n",
    "\n",
    "print(value_counts)\n",
    "# Plot the result using a bar plot\n",
    "value_counts.plot(kind='bar')\n",
    "\n",
    "# Set the plot title and labels\n",
    "plt.title('Value Counts')\n",
    "plt.xlabel('Unique Values')\n",
    "plt.ylabel('Count')\n",
    "\n",
    "\n",
    "# Show the plot\n",
    "plt.show()\n",
    "\n",
    "def plot_values()\n"
   ]
  }
 ],
 "metadata": {
  "kernelspec": {
   "display_name": "anyone-sprint-05",
   "language": "python",
   "name": "python3"
  },
  "language_info": {
   "codemirror_mode": {
    "name": "ipython",
    "version": 3
   },
   "file_extension": ".py",
   "mimetype": "text/x-python",
   "name": "python",
   "nbconvert_exporter": "python",
   "pygments_lexer": "ipython3",
   "version": "3.11.7"
  }
 },
 "nbformat": 4,
 "nbformat_minor": 2
}
