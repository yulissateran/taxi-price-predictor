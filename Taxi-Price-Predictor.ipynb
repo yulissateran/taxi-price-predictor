{
 "cells": [
  {
   "cell_type": "code",
   "execution_count": 4,
   "metadata": {},
   "outputs": [
    {
     "name": "stderr",
     "output_type": "stream",
     "text": [
      "Downloading...\n",
      "From: https://d37ci6vzurychx.cloudfront.net/trip-data/yellow_tripdata_2022-05.parquet\n",
      "To: /Users/yulissaterancerquin/Documents/taxi-price-predictor/dataset/trans_data.parquet\n",
      "100%|██████████| 55.6M/55.6M [00:11<00:00, 4.94MB/s]\n"
     ]
    }
   ],
   "source": [
    "import os\n",
    "import gdown\n",
    "from src import config\n",
    "\n",
    "\"\"\"\n",
    "Download from the needed datasets for the project.\n",
    "\"\"\"\n",
    "\n",
    "if not os.path.exists(config.DATASET_TRAIN):\n",
    "    gdown.download(config.DATASET_TRAIN_URL, config.DATASET_TRAIN, quiet=False)\n"
   ]
  },
  {
   "cell_type": "code",
   "execution_count": 5,
   "metadata": {},
   "outputs": [],
   "source": [
    "import pyarrow.parquet as pq\n",
    "from sklearn import datasets\n",
    "trips = pq.read_table(config.DATASET_TRAIN)\n",
    "trips = trips.to_pandas()"
   ]
  },
  {
   "cell_type": "code",
   "execution_count": 6,
   "metadata": {},
   "outputs": [
    {
     "name": "stdout",
     "output_type": "stream",
     "text": [
      "           VendorID        tpep_pickup_datetime       tpep_dropoff_datetime   \n",
      "count  3.588295e+06                     3588295                     3588295  \\\n",
      "mean   1.713103e+00  2022-05-16 07:50:29.219312  2022-05-16 08:08:42.275203   \n",
      "min    1.000000e+00         2003-01-01 00:06:06         2003-01-01 00:31:38   \n",
      "25%    1.000000e+00  2022-05-08 18:14:16.500000         2022-05-08 18:32:36   \n",
      "50%    2.000000e+00         2022-05-16 09:14:42         2022-05-16 09:33:15   \n",
      "75%    2.000000e+00         2022-05-23 18:03:17  2022-05-23 18:21:03.500000   \n",
      "max    6.000000e+00         2022-06-01 23:55:30         2022-06-02 00:03:51   \n",
      "std    4.888093e-01                         NaN                         NaN   \n",
      "\n",
      "       passenger_count  trip_distance    RatecodeID  PULocationID   \n",
      "count     3.458771e+06   3.588295e+06  3.458771e+06  3.588295e+06  \\\n",
      "mean      1.393923e+00   6.856861e+00  1.365674e+00  1.645738e+02   \n",
      "min       0.000000e+00   0.000000e+00  1.000000e+00  1.000000e+00   \n",
      "25%       1.000000e+00   1.150000e+00  1.000000e+00  1.320000e+02   \n",
      "50%       1.000000e+00   1.960000e+00  1.000000e+00  1.620000e+02   \n",
      "75%       1.000000e+00   3.730000e+00  1.000000e+00  2.340000e+02   \n",
      "max       9.000000e+00   3.571927e+05  9.900000e+01  2.650000e+02   \n",
      "std       9.555489e-01   6.908488e+02  5.239789e+00  6.562813e+01   \n",
      "\n",
      "       DOLocationID  payment_type   fare_amount         extra       mta_tax   \n",
      "count  3.588295e+06  3.588295e+06  3.588295e+06  3.588295e+06  3.588295e+06  \\\n",
      "mean   1.625517e+02  1.183209e+00  1.516813e+01  1.020728e+00  4.891096e-01   \n",
      "min    1.000000e+00  0.000000e+00 -1.311500e+03 -4.500000e+00 -5.000000e-01   \n",
      "25%    1.130000e+02  1.000000e+00  7.000000e+00  0.000000e+00  5.000000e-01   \n",
      "50%    1.620000e+02  1.000000e+00  1.050000e+01  5.000000e-01  5.000000e-01   \n",
      "75%    2.340000e+02  1.000000e+00  1.700000e+01  2.500000e+00  5.000000e-01   \n",
      "max    2.650000e+02  4.000000e+00  6.966500e+03  8.800000e+00  3.300000e+00   \n",
      "std    7.027926e+01  5.075988e-01  1.489484e+01  1.256724e+00  9.008878e-02   \n",
      "\n",
      "         tip_amount  tolls_amount  improvement_surcharge  total_amount   \n",
      "count  3.588295e+06  3.588295e+06           3.588295e+06  3.588295e+06  \\\n",
      "mean   2.824744e+00  5.827756e-01           2.964299e-01  2.207840e+01   \n",
      "min   -1.457000e+02 -5.075000e+01          -3.000000e-01 -1.314800e+03   \n",
      "25%    1.000000e+00  0.000000e+00           3.000000e-01  1.235000e+01   \n",
      "50%    2.160000e+00  0.000000e+00           3.000000e-01  1.630000e+01   \n",
      "75%    3.460000e+00  0.000000e+00           3.000000e-01  2.376000e+01   \n",
      "max    6.650000e+02  8.137500e+02           3.000000e-01  6.970800e+03   \n",
      "std    3.368739e+00  2.173699e+00           4.576907e-02  1.848683e+01   \n",
      "\n",
      "       congestion_surcharge   airport_fee  \n",
      "count          3.458771e+06  3.458771e+06  \n",
      "mean           2.282808e+00  1.008364e-01  \n",
      "min           -2.500000e+00 -1.250000e+00  \n",
      "25%            2.500000e+00  0.000000e+00  \n",
      "50%            2.500000e+00  0.000000e+00  \n",
      "75%            2.500000e+00  0.000000e+00  \n",
      "max            2.750000e+00  1.250000e+00  \n",
      "std            7.452415e-01  3.434480e-01  \n"
     ]
    }
   ],
   "source": [
    "print(trips.describe())"
   ]
  },
  {
   "cell_type": "code",
   "execution_count": 17,
   "metadata": {},
   "outputs": [
    {
     "name": "stdout",
     "output_type": "stream",
     "text": [
      "VendorID                          int64\n",
      "tpep_pickup_datetime     datetime64[us]\n",
      "tpep_dropoff_datetime    datetime64[us]\n",
      "passenger_count                 float64\n",
      "trip_distance                   float64\n",
      "RatecodeID                      float64\n",
      "store_and_fwd_flag               object\n",
      "PULocationID                      int64\n",
      "DOLocationID                      int64\n",
      "payment_type                      int64\n",
      "fare_amount                     float64\n",
      "extra                           float64\n",
      "mta_tax                         float64\n",
      "tip_amount                      float64\n",
      "tolls_amount                    float64\n",
      "improvement_surcharge           float64\n",
      "total_amount                    float64\n",
      "congestion_surcharge            float64\n",
      "airport_fee                     float64\n",
      "dtype: object\n"
     ]
    }
   ],
   "source": [
    "print(trips.dtypes)"
   ]
  },
  {
   "cell_type": "code",
   "execution_count": 24,
   "metadata": {},
   "outputs": [
    {
     "name": "stdout",
     "output_type": "stream",
     "text": [
      "(3588295, 19)\n"
     ]
    }
   ],
   "source": [
    "print(trips.shape)\n"
   ]
  },
  {
   "cell_type": "code",
   "execution_count": 25,
   "metadata": {},
   "outputs": [
    {
     "name": "stdout",
     "output_type": "stream",
     "text": [
      "   VendorID tpep_pickup_datetime tpep_dropoff_datetime  passenger_count   \n",
      "0         1  2022-05-01 00:00:36   2022-05-01 00:19:18              1.0  \\\n",
      "1         1  2022-05-01 00:27:44   2022-05-01 00:41:33              1.0   \n",
      "2         1  2022-05-01 00:59:00   2022-05-01 01:14:22              1.0   \n",
      "3         1  2022-05-01 00:48:18   2022-05-01 01:28:02              1.0   \n",
      "4         1  2022-05-01 00:28:26   2022-05-01 00:37:49              1.0   \n",
      "\n",
      "   trip_distance  RatecodeID store_and_fwd_flag  PULocationID  DOLocationID   \n",
      "0            4.1         1.0                  N           246           151  \\\n",
      "1            2.3         1.0                  N           238            74   \n",
      "2            4.2         1.0                  N           163           260   \n",
      "3            0.0         1.0                  N            79           182   \n",
      "4            1.6         1.0                  N           238            75   \n",
      "\n",
      "   payment_type  fare_amount  extra  mta_tax  tip_amount  tolls_amount   \n",
      "0             2         17.0    3.0      0.5        0.00           0.0  \\\n",
      "1             2         11.0    3.0      0.5        0.00           0.0   \n",
      "2             2         15.5    3.0      0.5        0.00           0.0   \n",
      "3             1         41.2    0.0      0.5        0.00           0.0   \n",
      "4             1          7.5    3.0      0.5        2.25           0.0   \n",
      "\n",
      "   improvement_surcharge  total_amount  congestion_surcharge  airport_fee  \n",
      "0                    0.3         20.80                   2.5          0.0  \n",
      "1                    0.3         14.80                   2.5          0.0  \n",
      "2                    0.3         19.30                   2.5          0.0  \n",
      "3                    0.3         42.00                   0.0          0.0  \n",
      "4                    0.3         13.55                   2.5          0.0  \n"
     ]
    }
   ],
   "source": [
    "print(trips.head(5))\n"
   ]
  },
  {
   "cell_type": "code",
   "execution_count": 40,
   "metadata": {},
   "outputs": [
    {
     "name": "stdout",
     "output_type": "stream",
     "text": [
      "VendorID\n",
      "2    2527997\n",
      "1    1054130\n",
      "6       6154\n",
      "5         14\n",
      "Name: count, dtype: int64\n"
     ]
    },
    {
     "data": {
      "image/png": "[encoded data removed]",
      "text/plain": [
       "<Figure size 640x480 with 1 Axes>"
      ]
     },
     "metadata": {},
     "output_type": "display_data"
    }
   ],
   "source": [
    "import matplotlib.pyplot as plt\n",
    "\n",
    "# Count the occurrences of each unique value in the column\n",
    "value_counts = trips['VendorID'].value_counts()\n",
    "\n",
    "print(value_counts)\n",
    "# Plot the result using a bar plot\n",
    "value_counts.plot(kind='bar')\n",
    "\n",
    "# Set the plot title and labels\n",
    "plt.title('Value Counts')\n",
    "plt.xlabel('Unique Values')\n",
    "plt.ylabel('Count')\n",
    "\n",
    "\n",
    "# Show the plot\n",
    "plt.show()\n",
    "\n",
    "def plot_values()\n"
   ]
  }
 ],
 "metadata": {
  "kernelspec": {
   "display_name": "anyone-sprint-05",
   "language": "python",
   "name": "python3"
  },
  "language_info": {
   "codemirror_mode": {
    "name": "ipython",
    "version": 3
   },
   "file_extension": ".py",
   "mimetype": "text/x-python",
   "name": "python",
   "nbconvert_exporter": "python",
   "pygments_lexer": "ipython3",
   "version": "3.10.14"
  }
 },
 "nbformat": 4,
 "nbformat_minor": 2
}
